{
 "cells": [
  {
   "cell_type": "markdown",
   "metadata": {},
   "source": [
    "# Set up"
   ]
  },
  {
   "cell_type": "code",
   "execution_count": 1,
   "metadata": {},
   "outputs": [],
   "source": [
    "import streamlit as st\n",
    "import pandas as pd\n",
    "import numpy as np\n",
    "from datetime import date\n",
    "import io\n",
    "import random\n",
    "\n",
    "\n",
    "import warnings\n",
    "\n",
    "# Ignore all warnings\n",
    "warnings.filterwarnings(\"ignore\")"
   ]
  },
  {
   "cell_type": "code",
   "execution_count": 2,
   "metadata": {},
   "outputs": [],
   "source": [
    "parent_path = 'C:\\\\Users\\\\DONGZ027\\\\Desktop\\\\Local Crafts\\\\craft001_Baymax'\n",
    "\n",
    "mmmYear = 2023\n",
    "ticket_price = 105\n",
    "\n",
    "media_mapping = {\n",
    "    'NTV':'National TV', \n",
    "    'LTV': 'Local TV',\n",
    "    'CTV': 'Connected TV',\n",
    "    'TTV' : 'TTV',\n",
    "    'STR' : 'Streaming',\n",
    "    'YOT' : 'YouTube',\n",
    "    'CIN' : 'Cinema',\n",
    "    'DIS' : 'Display',\n",
    "    'SEM' : 'Paid Search',\n",
    "    'FAB' : 'Facebook',\n",
    "    'SNP' : 'Snapchat',\n",
    "    'TWT' : 'Twitter',\n",
    "    'PIN' : 'Pinterest',\n",
    "    'TIK' : 'TikTok',\n",
    "    'DRD' : 'Digital Radio',\n",
    "    'LRD' : 'Local Radio',\n",
    "    'OOH' : 'Out of Home'\n",
    "}\n",
    "\n",
    "media_mapping_reverse = {v: k for k, v in media_mapping.items()}\n",
    "\n",
    "spend_prefix = \"M_P_\"  \n",
    "inc_prefix = \"TIncT_P_\" \n",
    "cpt_prefix = \"CPT_P_\"\n",
    "mcpt_prefix = \"MCPT_P_\" \n",
    "minc_prefix = \"nMTIncT_P_\"\n",
    "\n",
    "months_abbv = ['Oct', 'Nov', 'Dec', 'Jan', 'Feb', 'Mar', 'Apr', 'May', 'Jun', 'Jul', 'Aug', 'Sep']\n",
    "months_full = ['October', 'November', 'December', 'January', 'February', 'March', 'April', 'May', 'June', 'July', 'August', 'September'] "
   ]
  },
  {
   "cell_type": "code",
   "execution_count": 3,
   "metadata": {},
   "outputs": [],
   "source": [
    "# Time reference\n",
    "file_path = f\"{parent_path}\\data\\DT_snowflake.csv\"\n",
    "time_ref = pd.read_csv(file_path)\n",
    "\n",
    "time_ref = time_ref[[\n",
    "    'FIS_WK_END_DT', 'FIS_YR_NB', 'FIS_QTR_NB', 'FIS_MO_NB', 'FIS_WK_NB', \n",
    "]].drop_duplicates() \n",
    "time_ref = time_ref[time_ref['FIS_YR_NB'] >= mmmYear]\n",
    "time_ref['FIS_WK_END_DT'] = pd.to_datetime(time_ref['FIS_WK_END_DT']).dt.date\n",
    "time_ref = time_ref.sort_values(by=['FIS_WK_END_DT']) \n",
    "\n",
    "counting_months = time_ref.groupby(['FIS_YR_NB', 'FIS_MO_NB']).size().reset_index(name='weeks_count') \n",
    "counting_months['lag_weeks'] = counting_months.groupby(['FIS_YR_NB'])['weeks_count'].cumsum().shift(fill_value=0) \n",
    "counting_months.loc[counting_months.FIS_MO_NB == 1, 'lag_weeks'] = 0\n",
    "\n",
    "time_ref = time_ref.merge(counting_months, how = 'left', on = ['FIS_YR_NB', 'FIS_MO_NB']).drop_duplicates() \n",
    "\n",
    "counting_months2 = time_ref[['FIS_YR_NB', 'FIS_MO_NB']].drop_duplicates()\n",
    "counting_months2 = counting_months2.reset_index(drop=True)\n",
    "counting_months2['lag_months'] = counting_months2.index   \n",
    "\n",
    "time_ref = time_ref.merge(counting_months2, how = 'left', on = ['FIS_YR_NB', 'FIS_MO_NB']).drop_duplicates() \n",
    "df_time = time_ref.reset_index()"
   ]
  },
  {
   "cell_type": "code",
   "execution_count": 4,
   "metadata": {},
   "outputs": [],
   "source": [
    "# Media timing file\n",
    "# **********************************************************************************\n",
    "file_path = f\"{parent_path}\\\\data\\\\UK\\\\input_mediaTiming.csv\"\n",
    "df_curve  = pd.read_csv(file_path)\n",
    "media_list = df_curve.columns\n",
    "\n",
    "\n",
    "\n",
    "# Media parameters file\n",
    "# **********************************************************************************\n",
    "file_path = f\"{parent_path}\\\\data\\\\UK\\\\input_300pct.csv\"\n",
    "df_params  = pd.read_csv(file_path)\n",
    "names = list(df_params.columns)\n",
    "names2 = [s.replace(\"FABING\", \"ING\") for s in names]\n",
    "names2 = [s.replace(\"DIS_BAN\", \"BAN\") for s in names2]\n",
    "names2 = [s.replace(\"DIS_AFF\", \"AFF\") for s in names2]\n",
    "names2 = [s.replace(\"TlncT\", \"TIncT\") for s in names2]\n",
    "df_params.columns = names2"
   ]
  },
  {
   "cell_type": "code",
   "execution_count": 5,
   "metadata": {},
   "outputs": [],
   "source": [
    "def processing_spend_df(file_path):\n",
    "    data = pd.read_csv(file_path)\n",
    "    data.rename(columns=media_mapping_reverse, inplace=True)\n",
    "    data = data.reset_index()\n",
    "    data.rename(columns={\"index\": \"FIS_MO_NB\"}, inplace=True)\n",
    "    data['FIS_MO_NB'] = data['FIS_MO_NB'] + 1\n",
    "    data.drop(columns=['Month'], inplace=True)\n",
    "    # data.replace({0 : 10}, inplace=True)\n",
    "    return data\n",
    "\n",
    "\n",
    "scenario1 = processing_spend_df(f\"{parent_path}\\\\samples\\DLP_UK_FY23.csv\")\n",
    "scenario2 = processing_spend_df(f\"{parent_path}\\\\samples\\DLP_UK_FY23_110.csv\")\n",
    "base_year = scenario2\n"
   ]
  },
  {
   "cell_type": "code",
   "execution_count": 6,
   "metadata": {},
   "outputs": [],
   "source": [
    "df_bounds = pd.DataFrame({\n",
    "    'Media' : media_list,\n",
    "    'LB' : 0.8,\n",
    "    'UB' : 1.2\n",
    "})"
   ]
  },
  {
   "cell_type": "markdown",
   "metadata": {},
   "source": [
    "# Mature Functions"
   ]
  },
  {
   "cell_type": "code",
   "execution_count": 7,
   "metadata": {},
   "outputs": [],
   "source": [
    "def compute_reward_X(X, spend_data, planning_year, threshold):\n",
    "    \"\"\"\n",
    "    Compute the rewards over a 104-week period for a given media type and calculate\n",
    "    marginal increments and costs, with an updated multiplier calculation based on a threshold.\n",
    "\n",
    "    Args:\n",
    "        X (str): The media type (e.g., \"X1\").\n",
    "        spend_data (pd.DataFrame): DataFrame containing spending data with columns:\n",
    "            - 'FIS_MO_NB': Fiscal month number.\n",
    "            - Media spending columns (e.g., 'X1', 'X2', 'X3').\n",
    "        planning_year (int): The fiscal year of the current spending plan.\n",
    "        threshold (float): A value between 0 and 100. Months with spending percentage\n",
    "            greater than threshold/100 will be counted towards the multiplier.\n",
    "\n",
    "    Returns:\n",
    "        tuple: A tuple containing:\n",
    "            - reward_df (pd.DataFrame): DataFrame of shape (104, 13) with the reward curves.\n",
    "            - minc_X (float): Total marginal rewards for media X over 12 months.\n",
    "            - mc_X (float): Total marginal costs for media X over 12 months.\n",
    "    \"\"\"\n",
    "    # Ensure global access to necessary dataframes\n",
    "    global df_curve, df_params, df_time\n",
    "\n",
    "    # ================================================================================================================\n",
    "    # Step 1: Extract the spending array and compute the multiplier\n",
    "    # ================================================================================================================\n",
    "    spend_array = spend_data[X].values  # Spending for media X over 12 months\n",
    "    # Compute total spending S_total\n",
    "    S_total = spend_array.sum()\n",
    "\n",
    "    # Handle the case when total spending is zero to avoid division by zero\n",
    "    if S_total == 0:\n",
    "        spend_percentages = np.zeros_like(spend_array)\n",
    "    else:\n",
    "        # Compute the percentage of total spend per month\n",
    "        spend_percentages = spend_array / S_total\n",
    "\n",
    "    # Compute the multiplier based on the threshold\n",
    "    multiplier = np.sum(spend_percentages > (threshold / 100))\n",
    "\n",
    "    # If multiplier is zero, set it to 1 to avoid division by zero later\n",
    "    if multiplier == 0:\n",
    "        multiplier = 1\n",
    "\n",
    "    # ================================================================================================================\n",
    "    # Step 2: Compute the timing stuff\n",
    "    # ================================================================================================================\n",
    "    # Prepare a list to hold the 104-length arrays for each month\n",
    "    monthly_arrays = []\n",
    "\n",
    "    # Get fiscal years and months from spend_data\n",
    "    fiscal_months = spend_data['FIS_MO_NB'].values\n",
    "\n",
    "    # Filter df_time for the relevant fiscal year\n",
    "    df_time_filtered = df_time[df_time['FIS_YR_NB'] == planning_year]\n",
    "\n",
    "    # Group by fiscal month and count the number of weeks in each month\n",
    "    weeks_in_month = df_time_filtered.groupby('FIS_MO_NB')['FIS_WK_NB'].nunique()\n",
    "    weeks_in_month = weeks_in_month.reindex(range(1, 13), fill_value=0)\n",
    "\n",
    "    # Compute cumulative weeks to determine the starting week for each month\n",
    "    cumulative_weeks = weeks_in_month.cumsum()\n",
    "    start_weeks = [0] + cumulative_weeks.values.tolist()[:-1]\n",
    "\n",
    "    # Initialize total marginal increments and costs\n",
    "    minc_X = 0.0\n",
    "    mc_X = 0.0\n",
    "\n",
    "    # ================================================================================================================\n",
    "    # Loop over each month to compute the rewards\n",
    "    # ================================================================================================================\n",
    "    for idx, S_mo in enumerate(spend_array):\n",
    "        fiscal_month = fiscal_months[idx]\n",
    "\n",
    "        if S_mo == 0:\n",
    "            # If the spending is zero, append an array of zeros\n",
    "            monthly_array = np.zeros(104)\n",
    "            monthly_arrays.append(monthly_array)\n",
    "            continue\n",
    "\n",
    "        # Step 2: Calculate annualized spending and find the closest match in df_params\n",
    "        S_yr = S_mo * multiplier\n",
    "        M_P_X_col = spend_prefix + X\n",
    "        TIncT_P_X_col = inc_prefix + X\n",
    "        nMTIncT_P_X_col = minc_prefix + X  # Marginal rewards column\n",
    "        Pct_Delta_col = 'Pct_Delta'   \n",
    "\n",
    "        # Find the index of the closest spending value in df_params\n",
    "        idx_closest = (np.abs(df_params[M_P_X_col] - S_yr)).idxmin()\n",
    "\n",
    "        # Retrieve values from df_params\n",
    "        reward_yr = df_params.at[idx_closest, TIncT_P_X_col]\n",
    "        reward_mo = reward_yr / multiplier\n",
    "\n",
    "        # Calculate minc_mo and mc_mo for marginal cost per reward\n",
    "        minc_mo = df_params.at[idx_closest, nMTIncT_P_X_col]\n",
    "        mc_mo = df_params.at[idx_closest, Pct_Delta_col] * S_yr\n",
    "\n",
    "\n",
    "        # Accumulate total marginal increments and costs\n",
    "        minc_X += minc_mo\n",
    "        mc_X += mc_mo\n",
    "\n",
    "        # Step 3: Generate the reward curve for the month\n",
    "        timing_curve = df_curve[X].values  # Timing curve of length 52\n",
    "        monthly_reward_curve = reward_mo * timing_curve\n",
    "\n",
    "\n",
    "        # Step 4: Create a 104-length array with appropriate leading zeros\n",
    "        start_week = start_weeks[fiscal_month - 1]\n",
    "        leading_zeros = int(start_week)\n",
    "        trailing_zeros = 104 - leading_zeros - 52\n",
    "        if trailing_zeros < 0:\n",
    "            # If there is an overlap beyond 104 weeks, truncate the array\n",
    "            monthly_array = np.concatenate([\n",
    "                np.zeros(leading_zeros),\n",
    "                monthly_reward_curve[:104 - leading_zeros]\n",
    "            ])\n",
    "        else:\n",
    "            monthly_array = np.concatenate([\n",
    "                np.zeros(leading_zeros),\n",
    "                monthly_reward_curve,\n",
    "                np.zeros(trailing_zeros)\n",
    "            ])\n",
    "        monthly_arrays.append(monthly_array)\n",
    "    \n",
    "\n",
    "    #Aggregate the monthly arrays into a final reward curve\n",
    "    monthly_arrays = [arr[:104] for arr in monthly_arrays]  # Ensure each array is at most 104 elements\n",
    "    # Pad any shorter arrays to exactly 104 elements\n",
    "    monthly_arrays = [np.pad(arr, (0, 104 - len(arr)), 'constant') if len(arr) < 104 else arr for arr in monthly_arrays]\n",
    "    reward_X = np.sum(monthly_arrays, axis=0)\n",
    "\n",
    "\n",
    "    # Construct the output DataFrame\n",
    "    columns = [f'Month_{i+1}' for i in range(12)] + ['aggregated']\n",
    "    data = np.column_stack(monthly_arrays + [reward_X])\n",
    "    reward_df = pd.DataFrame(data, columns=columns)\n",
    "\n",
    "    return reward_df, minc_X, mc_X\n"
   ]
  },
  {
   "cell_type": "code",
   "execution_count": 8,
   "metadata": {},
   "outputs": [],
   "source": [
    "# check = compute_reward_X('NTV', scenario1, 2024, 0.9)"
   ]
  },
  {
   "cell_type": "code",
   "execution_count": 9,
   "metadata": {},
   "outputs": [],
   "source": [
    "def compute_plan_reward(spend_data, planning_year, lead_years, lag_years, threshold):\n",
    "    \"\"\"\n",
    "    Compute the reward curves for all medias over an extended time frame, broken down by month and aggregated.\n",
    "\n",
    "    Args:\n",
    "        spend_data (pd.DataFrame): DataFrame containing spending data with columns:\n",
    "            - 'FIS_MO_NB': Fiscal month number.\n",
    "            - Media spending columns (e.g., 'X1', 'X2', 'X3').\n",
    "        lead_years (int): Number of years to add as leading zeros.\n",
    "        lag_years (int): Number of years to add as trailing zeros.2\n",
    "        planning_year (int): The fiscal year of the current spending plan.\n",
    "        threshold (float): Threshold value for reward calculations.\n",
    "\n",
    "    Returns:\n",
    "        list: A list of 13 numpy arrays:\n",
    "            - First 12 arrays represent the monthly rewards summed across all media\n",
    "            - Last array represents the aggregated rewards summed across all media\n",
    "            Each array includes leading and trailing zeros.\n",
    "    \"\"\"\n",
    "    # Ensure global access to necessary dataframes\n",
    "    # global df_curve, df_params, df_time\n",
    "\n",
    "    # Step 1: Get the list of media columns from spend_data\n",
    "    medias = spend_data.columns.tolist()[1:]\n",
    "\n",
    "    # Initialize lists to store the monthly and aggregated reward arrays\n",
    "    monthly_rewards = [[] for _ in range(12)]  # One list for each month\n",
    "    aggregated_rewards = []  # List for aggregated rewards\n",
    "\n",
    "    # Loop over each media to compute its reward curves\n",
    "    for media in medias:\n",
    "        # Extract spending data for the media\n",
    "        media_spend_data = spend_data[['FIS_MO_NB', media]]\n",
    "\n",
    "        # Call compute_reward_X for the current media\n",
    "        reward_df = compute_reward_X(media, media_spend_data, planning_year, threshold)[0]\n",
    "\n",
    "        # Extract monthly columns and aggregated column\n",
    "        for month in range(12):\n",
    "            month_col = f'Month_{month+1}'\n",
    "            monthly_rewards[month].append(reward_df[month_col].values)\n",
    "        \n",
    "        # Extract and store aggregated rewards\n",
    "        aggregated_rewards.append(reward_df['aggregated'].values)\n",
    "\n",
    "    # Step 2: Sum the reward arrays across all media for each month and aggregated\n",
    "    summed_monthly_rewards = [np.sum(month_arrays, axis=0) for month_arrays in monthly_rewards]\n",
    "    summed_aggregated_rewards = np.sum(aggregated_rewards, axis=0)\n",
    "\n",
    "    # Step 3: Add leading and trailing zeros to each array\n",
    "    leading_zeros = np.zeros(lead_years * 52)\n",
    "    trailing_zeros = np.zeros(lag_years * 52)\n",
    "\n",
    "    # Create final list of extended arrays (12 monthly + 1 aggregated)\n",
    "    extended_reward_curves = []\n",
    "    \n",
    "    # Process monthly arrays\n",
    "    for monthly_reward in summed_monthly_rewards:\n",
    "        extended_monthly = np.concatenate([leading_zeros, monthly_reward, trailing_zeros])\n",
    "        extended_reward_curves.append(extended_monthly)\n",
    "    \n",
    "    # Process aggregated array\n",
    "    extended_aggregated = np.concatenate([leading_zeros, summed_aggregated_rewards, trailing_zeros])\n",
    "    extended_reward_curves.append(extended_aggregated)\n",
    "\n",
    "    return extended_reward_curves\n"
   ]
  },
  {
   "cell_type": "code",
   "execution_count": 10,
   "metadata": {},
   "outputs": [],
   "source": [
    "# check = compute_plan_reward(scenario1, 2024, 1, 1, 0.9)"
   ]
  },
  {
   "cell_type": "code",
   "execution_count": 11,
   "metadata": {},
   "outputs": [],
   "source": [
    "def plan_forecast_craft(spend_data, planning_year, lead_years, lag_years, cutoff):\n",
    "    \"\"\"\n",
    "    Generate monthly and quarterly forecast tables based on spending data and reward calculations.\n",
    "\n",
    "    Args:\n",
    "        spend_data (pd.DataFrame): DataFrame containing spending data with columns:\n",
    "            - 'FIS_MO_NB': Fiscal month number.\n",
    "            - Media spending columns (e.g., 'NTV', 'ING', 'STR').\n",
    "        planning_year (int): The fiscal year of the current spending plan.\n",
    "        lead_years (int): Number of years to add as leading zeros.\n",
    "        lag_years (int): Number of years to add as trailing zeros.\n",
    "        cutoff (float): Threshold value for reward calculations.\n",
    "\n",
    "    Returns:\n",
    "        tuple: A tuple containing:\n",
    "            - craft_mo (pd.DataFrame): DataFrame with monthly forecast data.\n",
    "            - craft_qtr (pd.DataFrame): DataFrame with quarterly forecast data.\n",
    "    \"\"\"\n",
    "    df_time_scenario = df_time[df_time['FIS_YR_NB'].between(planning_year - lead_years, planning_year + lag_years)]\n",
    "    weekly_table = df_time_scenario[['FIS_WK_END_DT', 'FIS_YR_NB', 'FIS_QTR_NB', 'FIS_MO_NB']]\n",
    "    results = compute_plan_reward(spend_data, planning_year, lead_years, lag_years, cutoff)\n",
    "\n",
    "    names = []\n",
    "    for i in range(len(results)-1):\n",
    "        serl = list(results[i])\n",
    "        if len(serl) < weekly_table.shape[0]:\n",
    "            serl = serl + [0] * (weekly_table.shape[0] - len(serl))\n",
    "        if len(serl) > weekly_table.shape[0]:\n",
    "            serl = serl[:weekly_table.shape[0]]\n",
    "        col_name = str(planning_year) + ' ' + months_abbv[i]\n",
    "        names.append(col_name)\n",
    "        weekly_table[col_name] = serl\n",
    "\n",
    "    # Monthly Table\n",
    "    # ================================================================================================================\n",
    "    monthly_table = weekly_table.groupby(['FIS_YR_NB', 'FIS_MO_NB'])[names].sum().reset_index()\n",
    "    rewards = monthly_table.iloc[:, 2:].values.T\n",
    "    monthly_table.FIS_MO_NB.replace(dict(zip(range(1, 13), months_abbv)), inplace=True) \n",
    "    monthly_table['timeline'] = monthly_table.FIS_YR_NB.astype(str) + \" \" + monthly_table.FIS_MO_NB.astype(str) \n",
    "    \n",
    "    shard1 = pd.DataFrame({'Spending Month': names, \"Spend\": spend_data.iloc[:, 1:].sum(axis = 1).values})\n",
    "    shard2 = pd.DataFrame(rewards)\n",
    "    shard2.columns = monthly_table['timeline'].values\n",
    "    craft_mo = pd.concat([shard1, shard2], axis=1) \n",
    "\n",
    "\n",
    "    # Monthly Table\n",
    "    # ================================================================================================================\n",
    "    quarter_table = weekly_table.groupby(['FIS_YR_NB', 'FIS_QTR_NB'])[names].sum().reset_index()\n",
    "    rewards = quarter_table.iloc[:, 2:].values.T \n",
    "    rewards = rewards.reshape(4, 3, -1) # Turning monthly tracking into quarterly tracking\n",
    "    rewards = rewards.sum(axis = 1)\n",
    "    quarter_table.FIS_QTR_NB = quarter_table.FIS_QTR_NB.astype(str)\n",
    "    quarter_table['timeline'] = quarter_table.FIS_YR_NB.astype(str) + \" Q\" + quarter_table.FIS_QTR_NB.astype(str)\n",
    "\n",
    "    names = [str(planning_year) + \" Q\" + str(x) for x in range(1, 5)]\n",
    "    shard1 = pd.DataFrame({'Spending Quarter': names, \n",
    "                           \"Spend\": spend_data.iloc[:, 1:].values.sum(axis = 1).reshape(4, 3).sum(axis = 1)})\n",
    "    shard2 = pd.DataFrame(rewards)\n",
    "    shard2.columns = quarter_table['timeline'].values\n",
    "    craft_qtr = pd.concat([shard1, shard2], axis=1) \n",
    "\n",
    "    return craft_mo, craft_qtr\n",
    "    "
   ]
  },
  {
   "cell_type": "code",
   "execution_count": null,
   "metadata": {},
   "outputs": [],
   "source": []
  },
  {
   "cell_type": "code",
   "execution_count": 12,
   "metadata": {},
   "outputs": [
    {
     "data": {
      "text/html": [
       "<div>\n",
       "<style scoped>\n",
       "    .dataframe tbody tr th:only-of-type {\n",
       "        vertical-align: middle;\n",
       "    }\n",
       "\n",
       "    .dataframe tbody tr th {\n",
       "        vertical-align: top;\n",
       "    }\n",
       "\n",
       "    .dataframe thead th {\n",
       "        text-align: right;\n",
       "    }\n",
       "</style>\n",
       "<table border=\"1\" class=\"dataframe\">\n",
       "  <thead>\n",
       "    <tr style=\"text-align: right;\">\n",
       "      <th></th>\n",
       "      <th>Spending Month</th>\n",
       "      <th>Spend</th>\n",
       "      <th>2023 Oct</th>\n",
       "      <th>2023 Nov</th>\n",
       "      <th>2023 Dec</th>\n",
       "      <th>2023 Jan</th>\n",
       "      <th>2023 Feb</th>\n",
       "      <th>2023 Mar</th>\n",
       "      <th>2023 Apr</th>\n",
       "      <th>2023 May</th>\n",
       "      <th>...</th>\n",
       "      <th>2025 Dec</th>\n",
       "      <th>2025 Jan</th>\n",
       "      <th>2025 Feb</th>\n",
       "      <th>2025 Mar</th>\n",
       "      <th>2025 Apr</th>\n",
       "      <th>2025 May</th>\n",
       "      <th>2025 Jun</th>\n",
       "      <th>2025 Jul</th>\n",
       "      <th>2025 Aug</th>\n",
       "      <th>2025 Sep</th>\n",
       "    </tr>\n",
       "  </thead>\n",
       "  <tbody>\n",
       "    <tr>\n",
       "      <th>0</th>\n",
       "      <td>Total Attendance</td>\n",
       "      <td></td>\n",
       "      <td>13124.536118922046</td>\n",
       "      <td>59879.37982521834</td>\n",
       "      <td>58707.53736567874</td>\n",
       "      <td>54774.255698560926</td>\n",
       "      <td>65160.23902757405</td>\n",
       "      <td>90546.45698865171</td>\n",
       "      <td>77365.46503561716</td>\n",
       "      <td>81344.04525897413</td>\n",
       "      <td>...</td>\n",
       "      <td>21196.146996018648</td>\n",
       "      <td>9892.974089323023</td>\n",
       "      <td>5033.3188847087495</td>\n",
       "      <td>3194.2688802780494</td>\n",
       "      <td>1364.0807474775331</td>\n",
       "      <td>555.8622985544666</td>\n",
       "      <td>0.0</td>\n",
       "      <td>0.0</td>\n",
       "      <td>0.0</td>\n",
       "      <td>0.0</td>\n",
       "    </tr>\n",
       "    <tr>\n",
       "      <th>1</th>\n",
       "      <td>2023 Oct</td>\n",
       "      <td>2089984.14474</td>\n",
       "      <td>13124.536119</td>\n",
       "      <td>51630.413817</td>\n",
       "      <td>36821.06422</td>\n",
       "      <td>17345.994823</td>\n",
       "      <td>8705.709787</td>\n",
       "      <td>5774.9007</td>\n",
       "      <td>2466.082659</td>\n",
       "      <td>1420.428866</td>\n",
       "      <td>...</td>\n",
       "      <td>0.0</td>\n",
       "      <td>0.0</td>\n",
       "      <td>0.0</td>\n",
       "      <td>0.0</td>\n",
       "      <td>0.0</td>\n",
       "      <td>0.0</td>\n",
       "      <td>0.0</td>\n",
       "      <td>0.0</td>\n",
       "      <td>0.0</td>\n",
       "      <td>0.0</td>\n",
       "    </tr>\n",
       "    <tr>\n",
       "      <th>2</th>\n",
       "      <td>2023 Nov</td>\n",
       "      <td>267913.96391</td>\n",
       "      <td>0.0</td>\n",
       "      <td>8248.966008</td>\n",
       "      <td>17833.325465</td>\n",
       "      <td>15195.943354</td>\n",
       "      <td>7363.649539</td>\n",
       "      <td>4359.44833</td>\n",
       "      <td>1825.302251</td>\n",
       "      <td>1051.316535</td>\n",
       "      <td>...</td>\n",
       "      <td>0.0</td>\n",
       "      <td>0.0</td>\n",
       "      <td>0.0</td>\n",
       "      <td>0.0</td>\n",
       "      <td>0.0</td>\n",
       "      <td>0.0</td>\n",
       "      <td>0.0</td>\n",
       "      <td>0.0</td>\n",
       "      <td>0.0</td>\n",
       "      <td>0.0</td>\n",
       "    </tr>\n",
       "    <tr>\n",
       "      <th>3</th>\n",
       "      <td>2023 Dec</td>\n",
       "      <td>196786.4644</td>\n",
       "      <td>0.0</td>\n",
       "      <td>0.0</td>\n",
       "      <td>4053.147681</td>\n",
       "      <td>12285.437324</td>\n",
       "      <td>12350.028926</td>\n",
       "      <td>2571.354014</td>\n",
       "      <td>76.886591</td>\n",
       "      <td>0.0</td>\n",
       "      <td>...</td>\n",
       "      <td>0.0</td>\n",
       "      <td>0.0</td>\n",
       "      <td>0.0</td>\n",
       "      <td>0.0</td>\n",
       "      <td>0.0</td>\n",
       "      <td>0.0</td>\n",
       "      <td>0.0</td>\n",
       "      <td>0.0</td>\n",
       "      <td>0.0</td>\n",
       "      <td>0.0</td>\n",
       "    </tr>\n",
       "    <tr>\n",
       "      <th>4</th>\n",
       "      <td>2023 Jan</td>\n",
       "      <td>953244.3685</td>\n",
       "      <td>0.0</td>\n",
       "      <td>0.0</td>\n",
       "      <td>0.0</td>\n",
       "      <td>9946.880197</td>\n",
       "      <td>30542.512201</td>\n",
       "      <td>34359.89314</td>\n",
       "      <td>3525.936245</td>\n",
       "      <td>169.691765</td>\n",
       "      <td>...</td>\n",
       "      <td>0.0</td>\n",
       "      <td>0.0</td>\n",
       "      <td>0.0</td>\n",
       "      <td>0.0</td>\n",
       "      <td>0.0</td>\n",
       "      <td>0.0</td>\n",
       "      <td>0.0</td>\n",
       "      <td>0.0</td>\n",
       "      <td>0.0</td>\n",
       "      <td>0.0</td>\n",
       "    </tr>\n",
       "    <tr>\n",
       "      <th>5</th>\n",
       "      <td>2023 Feb</td>\n",
       "      <td>1207504.3417</td>\n",
       "      <td>0.0</td>\n",
       "      <td>0.0</td>\n",
       "      <td>0.0</td>\n",
       "      <td>0.0</td>\n",
       "      <td>6198.338574</td>\n",
       "      <td>23166.157241</td>\n",
       "      <td>20166.650603</td>\n",
       "      <td>14986.730622</td>\n",
       "      <td>...</td>\n",
       "      <td>0.0</td>\n",
       "      <td>0.0</td>\n",
       "      <td>0.0</td>\n",
       "      <td>0.0</td>\n",
       "      <td>0.0</td>\n",
       "      <td>0.0</td>\n",
       "      <td>0.0</td>\n",
       "      <td>0.0</td>\n",
       "      <td>0.0</td>\n",
       "      <td>0.0</td>\n",
       "    </tr>\n",
       "    <tr>\n",
       "      <th>6</th>\n",
       "      <td>2023 Mar</td>\n",
       "      <td>2099646.77947</td>\n",
       "      <td>0.0</td>\n",
       "      <td>0.0</td>\n",
       "      <td>0.0</td>\n",
       "      <td>0.0</td>\n",
       "      <td>0.0</td>\n",
       "      <td>20314.703564</td>\n",
       "      <td>44666.20632</td>\n",
       "      <td>37341.311648</td>\n",
       "      <td>...</td>\n",
       "      <td>0.0</td>\n",
       "      <td>0.0</td>\n",
       "      <td>0.0</td>\n",
       "      <td>0.0</td>\n",
       "      <td>0.0</td>\n",
       "      <td>0.0</td>\n",
       "      <td>0.0</td>\n",
       "      <td>0.0</td>\n",
       "      <td>0.0</td>\n",
       "      <td>0.0</td>\n",
       "    </tr>\n",
       "    <tr>\n",
       "      <th>7</th>\n",
       "      <td>2023 Apr</td>\n",
       "      <td>255465.886157</td>\n",
       "      <td>0.0</td>\n",
       "      <td>0.0</td>\n",
       "      <td>0.0</td>\n",
       "      <td>0.0</td>\n",
       "      <td>0.0</td>\n",
       "      <td>0.0</td>\n",
       "      <td>4638.400366</td>\n",
       "      <td>14110.248128</td>\n",
       "      <td>...</td>\n",
       "      <td>0.0</td>\n",
       "      <td>0.0</td>\n",
       "      <td>0.0</td>\n",
       "      <td>0.0</td>\n",
       "      <td>0.0</td>\n",
       "      <td>0.0</td>\n",
       "      <td>0.0</td>\n",
       "      <td>0.0</td>\n",
       "      <td>0.0</td>\n",
       "      <td>0.0</td>\n",
       "    </tr>\n",
       "    <tr>\n",
       "      <th>8</th>\n",
       "      <td>2023 May</td>\n",
       "      <td>1726203.25185</td>\n",
       "      <td>0.0</td>\n",
       "      <td>0.0</td>\n",
       "      <td>0.0</td>\n",
       "      <td>0.0</td>\n",
       "      <td>0.0</td>\n",
       "      <td>0.0</td>\n",
       "      <td>0.0</td>\n",
       "      <td>12264.317695</td>\n",
       "      <td>...</td>\n",
       "      <td>0.0</td>\n",
       "      <td>0.0</td>\n",
       "      <td>0.0</td>\n",
       "      <td>0.0</td>\n",
       "      <td>0.0</td>\n",
       "      <td>0.0</td>\n",
       "      <td>0.0</td>\n",
       "      <td>0.0</td>\n",
       "      <td>0.0</td>\n",
       "      <td>0.0</td>\n",
       "    </tr>\n",
       "    <tr>\n",
       "      <th>9</th>\n",
       "      <td>2023 Jun</td>\n",
       "      <td>612396.14521</td>\n",
       "      <td>0.0</td>\n",
       "      <td>0.0</td>\n",
       "      <td>0.0</td>\n",
       "      <td>0.0</td>\n",
       "      <td>0.0</td>\n",
       "      <td>0.0</td>\n",
       "      <td>0.0</td>\n",
       "      <td>0.0</td>\n",
       "      <td>...</td>\n",
       "      <td>0.0</td>\n",
       "      <td>0.0</td>\n",
       "      <td>0.0</td>\n",
       "      <td>0.0</td>\n",
       "      <td>0.0</td>\n",
       "      <td>0.0</td>\n",
       "      <td>0.0</td>\n",
       "      <td>0.0</td>\n",
       "      <td>0.0</td>\n",
       "      <td>0.0</td>\n",
       "    </tr>\n",
       "    <tr>\n",
       "      <th>10</th>\n",
       "      <td>2023 Jul</td>\n",
       "      <td>342885.59372</td>\n",
       "      <td>0.0</td>\n",
       "      <td>0.0</td>\n",
       "      <td>0.0</td>\n",
       "      <td>0.0</td>\n",
       "      <td>0.0</td>\n",
       "      <td>0.0</td>\n",
       "      <td>0.0</td>\n",
       "      <td>0.0</td>\n",
       "      <td>...</td>\n",
       "      <td>0.0</td>\n",
       "      <td>0.0</td>\n",
       "      <td>0.0</td>\n",
       "      <td>0.0</td>\n",
       "      <td>0.0</td>\n",
       "      <td>0.0</td>\n",
       "      <td>0.0</td>\n",
       "      <td>0.0</td>\n",
       "      <td>0.0</td>\n",
       "      <td>0.0</td>\n",
       "    </tr>\n",
       "    <tr>\n",
       "      <th>11</th>\n",
       "      <td>2023 Aug</td>\n",
       "      <td>316791.40021</td>\n",
       "      <td>0.0</td>\n",
       "      <td>0.0</td>\n",
       "      <td>0.0</td>\n",
       "      <td>0.0</td>\n",
       "      <td>0.0</td>\n",
       "      <td>0.0</td>\n",
       "      <td>0.0</td>\n",
       "      <td>0.0</td>\n",
       "      <td>...</td>\n",
       "      <td>0.0</td>\n",
       "      <td>0.0</td>\n",
       "      <td>0.0</td>\n",
       "      <td>0.0</td>\n",
       "      <td>0.0</td>\n",
       "      <td>0.0</td>\n",
       "      <td>0.0</td>\n",
       "      <td>0.0</td>\n",
       "      <td>0.0</td>\n",
       "      <td>0.0</td>\n",
       "    </tr>\n",
       "    <tr>\n",
       "      <th>12</th>\n",
       "      <td>2023 Sep</td>\n",
       "      <td>3561205.20129</td>\n",
       "      <td>0.0</td>\n",
       "      <td>0.0</td>\n",
       "      <td>0.0</td>\n",
       "      <td>0.0</td>\n",
       "      <td>0.0</td>\n",
       "      <td>0.0</td>\n",
       "      <td>0.0</td>\n",
       "      <td>0.0</td>\n",
       "      <td>...</td>\n",
       "      <td>0.0</td>\n",
       "      <td>0.0</td>\n",
       "      <td>0.0</td>\n",
       "      <td>0.0</td>\n",
       "      <td>0.0</td>\n",
       "      <td>0.0</td>\n",
       "      <td>0.0</td>\n",
       "      <td>0.0</td>\n",
       "      <td>0.0</td>\n",
       "      <td>0.0</td>\n",
       "    </tr>\n",
       "    <tr>\n",
       "      <th>13</th>\n",
       "      <td>2024 Oct</td>\n",
       "      <td>1899985.58613</td>\n",
       "      <td>0.0</td>\n",
       "      <td>0.0</td>\n",
       "      <td>0.0</td>\n",
       "      <td>0.0</td>\n",
       "      <td>0.0</td>\n",
       "      <td>0.0</td>\n",
       "      <td>0.0</td>\n",
       "      <td>0.0</td>\n",
       "      <td>...</td>\n",
       "      <td>0.0</td>\n",
       "      <td>0.0</td>\n",
       "      <td>0.0</td>\n",
       "      <td>0.0</td>\n",
       "      <td>0.0</td>\n",
       "      <td>0.0</td>\n",
       "      <td>0.0</td>\n",
       "      <td>0.0</td>\n",
       "      <td>0.0</td>\n",
       "      <td>0.0</td>\n",
       "    </tr>\n",
       "    <tr>\n",
       "      <th>14</th>\n",
       "      <td>2024 Nov</td>\n",
       "      <td>243558.14902</td>\n",
       "      <td>0.0</td>\n",
       "      <td>0.0</td>\n",
       "      <td>0.0</td>\n",
       "      <td>0.0</td>\n",
       "      <td>0.0</td>\n",
       "      <td>0.0</td>\n",
       "      <td>0.0</td>\n",
       "      <td>0.0</td>\n",
       "      <td>...</td>\n",
       "      <td>0.0</td>\n",
       "      <td>0.0</td>\n",
       "      <td>0.0</td>\n",
       "      <td>0.0</td>\n",
       "      <td>0.0</td>\n",
       "      <td>0.0</td>\n",
       "      <td>0.0</td>\n",
       "      <td>0.0</td>\n",
       "      <td>0.0</td>\n",
       "      <td>0.0</td>\n",
       "    </tr>\n",
       "    <tr>\n",
       "      <th>15</th>\n",
       "      <td>2024 Dec</td>\n",
       "      <td>178896.78582</td>\n",
       "      <td>0.0</td>\n",
       "      <td>0.0</td>\n",
       "      <td>0.0</td>\n",
       "      <td>0.0</td>\n",
       "      <td>0.0</td>\n",
       "      <td>0.0</td>\n",
       "      <td>0.0</td>\n",
       "      <td>0.0</td>\n",
       "      <td>...</td>\n",
       "      <td>0.0</td>\n",
       "      <td>0.0</td>\n",
       "      <td>0.0</td>\n",
       "      <td>0.0</td>\n",
       "      <td>0.0</td>\n",
       "      <td>0.0</td>\n",
       "      <td>0.0</td>\n",
       "      <td>0.0</td>\n",
       "      <td>0.0</td>\n",
       "      <td>0.0</td>\n",
       "    </tr>\n",
       "    <tr>\n",
       "      <th>16</th>\n",
       "      <td>2024 Jan</td>\n",
       "      <td>866585.78954</td>\n",
       "      <td>0.0</td>\n",
       "      <td>0.0</td>\n",
       "      <td>0.0</td>\n",
       "      <td>0.0</td>\n",
       "      <td>0.0</td>\n",
       "      <td>0.0</td>\n",
       "      <td>0.0</td>\n",
       "      <td>0.0</td>\n",
       "      <td>...</td>\n",
       "      <td>0.0</td>\n",
       "      <td>0.0</td>\n",
       "      <td>0.0</td>\n",
       "      <td>0.0</td>\n",
       "      <td>0.0</td>\n",
       "      <td>0.0</td>\n",
       "      <td>0.0</td>\n",
       "      <td>0.0</td>\n",
       "      <td>0.0</td>\n",
       "      <td>0.0</td>\n",
       "    </tr>\n",
       "    <tr>\n",
       "      <th>17</th>\n",
       "      <td>2024 Feb</td>\n",
       "      <td>1097731.2199</td>\n",
       "      <td>0.0</td>\n",
       "      <td>0.0</td>\n",
       "      <td>0.0</td>\n",
       "      <td>0.0</td>\n",
       "      <td>0.0</td>\n",
       "      <td>0.0</td>\n",
       "      <td>0.0</td>\n",
       "      <td>0.0</td>\n",
       "      <td>...</td>\n",
       "      <td>0.0</td>\n",
       "      <td>0.0</td>\n",
       "      <td>0.0</td>\n",
       "      <td>0.0</td>\n",
       "      <td>0.0</td>\n",
       "      <td>0.0</td>\n",
       "      <td>0.0</td>\n",
       "      <td>0.0</td>\n",
       "      <td>0.0</td>\n",
       "      <td>0.0</td>\n",
       "    </tr>\n",
       "    <tr>\n",
       "      <th>18</th>\n",
       "      <td>2024 Mar</td>\n",
       "      <td>1908769.79942</td>\n",
       "      <td>0.0</td>\n",
       "      <td>0.0</td>\n",
       "      <td>0.0</td>\n",
       "      <td>0.0</td>\n",
       "      <td>0.0</td>\n",
       "      <td>0.0</td>\n",
       "      <td>0.0</td>\n",
       "      <td>0.0</td>\n",
       "      <td>...</td>\n",
       "      <td>0.0</td>\n",
       "      <td>0.0</td>\n",
       "      <td>0.0</td>\n",
       "      <td>0.0</td>\n",
       "      <td>0.0</td>\n",
       "      <td>0.0</td>\n",
       "      <td>0.0</td>\n",
       "      <td>0.0</td>\n",
       "      <td>0.0</td>\n",
       "      <td>0.0</td>\n",
       "    </tr>\n",
       "    <tr>\n",
       "      <th>19</th>\n",
       "      <td>2024 Apr</td>\n",
       "      <td>232241.71467</td>\n",
       "      <td>0.0</td>\n",
       "      <td>0.0</td>\n",
       "      <td>0.0</td>\n",
       "      <td>0.0</td>\n",
       "      <td>0.0</td>\n",
       "      <td>0.0</td>\n",
       "      <td>0.0</td>\n",
       "      <td>0.0</td>\n",
       "      <td>...</td>\n",
       "      <td>0.0</td>\n",
       "      <td>0.0</td>\n",
       "      <td>0.0</td>\n",
       "      <td>0.0</td>\n",
       "      <td>0.0</td>\n",
       "      <td>0.0</td>\n",
       "      <td>0.0</td>\n",
       "      <td>0.0</td>\n",
       "      <td>0.0</td>\n",
       "      <td>0.0</td>\n",
       "    </tr>\n",
       "    <tr>\n",
       "      <th>20</th>\n",
       "      <td>2024 May</td>\n",
       "      <td>1569275.68344</td>\n",
       "      <td>0.0</td>\n",
       "      <td>0.0</td>\n",
       "      <td>0.0</td>\n",
       "      <td>0.0</td>\n",
       "      <td>0.0</td>\n",
       "      <td>0.0</td>\n",
       "      <td>0.0</td>\n",
       "      <td>0.0</td>\n",
       "      <td>...</td>\n",
       "      <td>1127.17446</td>\n",
       "      <td>459.323092</td>\n",
       "      <td>0.0</td>\n",
       "      <td>0.0</td>\n",
       "      <td>0.0</td>\n",
       "      <td>0.0</td>\n",
       "      <td>0.0</td>\n",
       "      <td>0.0</td>\n",
       "      <td>0.0</td>\n",
       "      <td>0.0</td>\n",
       "    </tr>\n",
       "    <tr>\n",
       "      <th>21</th>\n",
       "      <td>2024 Jun</td>\n",
       "      <td>556723.76839</td>\n",
       "      <td>0.0</td>\n",
       "      <td>0.0</td>\n",
       "      <td>0.0</td>\n",
       "      <td>0.0</td>\n",
       "      <td>0.0</td>\n",
       "      <td>0.0</td>\n",
       "      <td>0.0</td>\n",
       "      <td>0.0</td>\n",
       "      <td>...</td>\n",
       "      <td>1151.597399</td>\n",
       "      <td>663.292754</td>\n",
       "      <td>270.291503</td>\n",
       "      <td>0.0</td>\n",
       "      <td>0.0</td>\n",
       "      <td>0.0</td>\n",
       "      <td>0.0</td>\n",
       "      <td>0.0</td>\n",
       "      <td>0.0</td>\n",
       "      <td>0.0</td>\n",
       "    </tr>\n",
       "    <tr>\n",
       "      <th>22</th>\n",
       "      <td>2024 Jul</td>\n",
       "      <td>311714.1761</td>\n",
       "      <td>0.0</td>\n",
       "      <td>0.0</td>\n",
       "      <td>0.0</td>\n",
       "      <td>0.0</td>\n",
       "      <td>0.0</td>\n",
       "      <td>0.0</td>\n",
       "      <td>0.0</td>\n",
       "      <td>0.0</td>\n",
       "      <td>...</td>\n",
       "      <td>0.0</td>\n",
       "      <td>0.0</td>\n",
       "      <td>0.0</td>\n",
       "      <td>0.0</td>\n",
       "      <td>0.0</td>\n",
       "      <td>0.0</td>\n",
       "      <td>0.0</td>\n",
       "      <td>0.0</td>\n",
       "      <td>0.0</td>\n",
       "      <td>0.0</td>\n",
       "    </tr>\n",
       "    <tr>\n",
       "      <th>23</th>\n",
       "      <td>2024 Aug</td>\n",
       "      <td>287992.18194</td>\n",
       "      <td>0.0</td>\n",
       "      <td>0.0</td>\n",
       "      <td>0.0</td>\n",
       "      <td>0.0</td>\n",
       "      <td>0.0</td>\n",
       "      <td>0.0</td>\n",
       "      <td>0.0</td>\n",
       "      <td>0.0</td>\n",
       "      <td>...</td>\n",
       "      <td>31.828923</td>\n",
       "      <td>0.0</td>\n",
       "      <td>0.0</td>\n",
       "      <td>0.0</td>\n",
       "      <td>0.0</td>\n",
       "      <td>0.0</td>\n",
       "      <td>0.0</td>\n",
       "      <td>0.0</td>\n",
       "      <td>0.0</td>\n",
       "      <td>0.0</td>\n",
       "    </tr>\n",
       "    <tr>\n",
       "      <th>24</th>\n",
       "      <td>2024 Sep</td>\n",
       "      <td>3237459.27394</td>\n",
       "      <td>0.0</td>\n",
       "      <td>0.0</td>\n",
       "      <td>0.0</td>\n",
       "      <td>0.0</td>\n",
       "      <td>0.0</td>\n",
       "      <td>0.0</td>\n",
       "      <td>0.0</td>\n",
       "      <td>0.0</td>\n",
       "      <td>...</td>\n",
       "      <td>18885.546214</td>\n",
       "      <td>8770.358243</td>\n",
       "      <td>4763.027382</td>\n",
       "      <td>3194.26888</td>\n",
       "      <td>1364.080747</td>\n",
       "      <td>555.862299</td>\n",
       "      <td>0.0</td>\n",
       "      <td>0.0</td>\n",
       "      <td>0.0</td>\n",
       "      <td>0.0</td>\n",
       "    </tr>\n",
       "  </tbody>\n",
       "</table>\n",
       "<p>25 rows × 38 columns</p>\n",
       "</div>"
      ],
      "text/plain": [
       "      Spending Month          Spend            2023 Oct           2023 Nov  \\\n",
       "0   Total Attendance                 13124.536118922046  59879.37982521834   \n",
       "1           2023 Oct  2089984.14474        13124.536119       51630.413817   \n",
       "2           2023 Nov   267913.96391                 0.0        8248.966008   \n",
       "3           2023 Dec    196786.4644                 0.0                0.0   \n",
       "4           2023 Jan    953244.3685                 0.0                0.0   \n",
       "5           2023 Feb   1207504.3417                 0.0                0.0   \n",
       "6           2023 Mar  2099646.77947                 0.0                0.0   \n",
       "7           2023 Apr  255465.886157                 0.0                0.0   \n",
       "8           2023 May  1726203.25185                 0.0                0.0   \n",
       "9           2023 Jun   612396.14521                 0.0                0.0   \n",
       "10          2023 Jul   342885.59372                 0.0                0.0   \n",
       "11          2023 Aug   316791.40021                 0.0                0.0   \n",
       "12          2023 Sep  3561205.20129                 0.0                0.0   \n",
       "13          2024 Oct  1899985.58613                 0.0                0.0   \n",
       "14          2024 Nov   243558.14902                 0.0                0.0   \n",
       "15          2024 Dec   178896.78582                 0.0                0.0   \n",
       "16          2024 Jan   866585.78954                 0.0                0.0   \n",
       "17          2024 Feb   1097731.2199                 0.0                0.0   \n",
       "18          2024 Mar  1908769.79942                 0.0                0.0   \n",
       "19          2024 Apr   232241.71467                 0.0                0.0   \n",
       "20          2024 May  1569275.68344                 0.0                0.0   \n",
       "21          2024 Jun   556723.76839                 0.0                0.0   \n",
       "22          2024 Jul    311714.1761                 0.0                0.0   \n",
       "23          2024 Aug   287992.18194                 0.0                0.0   \n",
       "24          2024 Sep  3237459.27394                 0.0                0.0   \n",
       "\n",
       "             2023 Dec            2023 Jan           2023 Feb  \\\n",
       "0   58707.53736567874  54774.255698560926  65160.23902757405   \n",
       "1         36821.06422        17345.994823        8705.709787   \n",
       "2        17833.325465        15195.943354        7363.649539   \n",
       "3         4053.147681        12285.437324       12350.028926   \n",
       "4                 0.0         9946.880197       30542.512201   \n",
       "5                 0.0                 0.0        6198.338574   \n",
       "6                 0.0                 0.0                0.0   \n",
       "7                 0.0                 0.0                0.0   \n",
       "8                 0.0                 0.0                0.0   \n",
       "9                 0.0                 0.0                0.0   \n",
       "10                0.0                 0.0                0.0   \n",
       "11                0.0                 0.0                0.0   \n",
       "12                0.0                 0.0                0.0   \n",
       "13                0.0                 0.0                0.0   \n",
       "14                0.0                 0.0                0.0   \n",
       "15                0.0                 0.0                0.0   \n",
       "16                0.0                 0.0                0.0   \n",
       "17                0.0                 0.0                0.0   \n",
       "18                0.0                 0.0                0.0   \n",
       "19                0.0                 0.0                0.0   \n",
       "20                0.0                 0.0                0.0   \n",
       "21                0.0                 0.0                0.0   \n",
       "22                0.0                 0.0                0.0   \n",
       "23                0.0                 0.0                0.0   \n",
       "24                0.0                 0.0                0.0   \n",
       "\n",
       "             2023 Mar           2023 Apr           2023 May  ...  \\\n",
       "0   90546.45698865171  77365.46503561716  81344.04525897413  ...   \n",
       "1           5774.9007        2466.082659        1420.428866  ...   \n",
       "2          4359.44833        1825.302251        1051.316535  ...   \n",
       "3         2571.354014          76.886591                0.0  ...   \n",
       "4         34359.89314        3525.936245         169.691765  ...   \n",
       "5        23166.157241       20166.650603       14986.730622  ...   \n",
       "6        20314.703564        44666.20632       37341.311648  ...   \n",
       "7                 0.0        4638.400366       14110.248128  ...   \n",
       "8                 0.0                0.0       12264.317695  ...   \n",
       "9                 0.0                0.0                0.0  ...   \n",
       "10                0.0                0.0                0.0  ...   \n",
       "11                0.0                0.0                0.0  ...   \n",
       "12                0.0                0.0                0.0  ...   \n",
       "13                0.0                0.0                0.0  ...   \n",
       "14                0.0                0.0                0.0  ...   \n",
       "15                0.0                0.0                0.0  ...   \n",
       "16                0.0                0.0                0.0  ...   \n",
       "17                0.0                0.0                0.0  ...   \n",
       "18                0.0                0.0                0.0  ...   \n",
       "19                0.0                0.0                0.0  ...   \n",
       "20                0.0                0.0                0.0  ...   \n",
       "21                0.0                0.0                0.0  ...   \n",
       "22                0.0                0.0                0.0  ...   \n",
       "23                0.0                0.0                0.0  ...   \n",
       "24                0.0                0.0                0.0  ...   \n",
       "\n",
       "              2025 Dec           2025 Jan            2025 Feb  \\\n",
       "0   21196.146996018648  9892.974089323023  5033.3188847087495   \n",
       "1                  0.0                0.0                 0.0   \n",
       "2                  0.0                0.0                 0.0   \n",
       "3                  0.0                0.0                 0.0   \n",
       "4                  0.0                0.0                 0.0   \n",
       "5                  0.0                0.0                 0.0   \n",
       "6                  0.0                0.0                 0.0   \n",
       "7                  0.0                0.0                 0.0   \n",
       "8                  0.0                0.0                 0.0   \n",
       "9                  0.0                0.0                 0.0   \n",
       "10                 0.0                0.0                 0.0   \n",
       "11                 0.0                0.0                 0.0   \n",
       "12                 0.0                0.0                 0.0   \n",
       "13                 0.0                0.0                 0.0   \n",
       "14                 0.0                0.0                 0.0   \n",
       "15                 0.0                0.0                 0.0   \n",
       "16                 0.0                0.0                 0.0   \n",
       "17                 0.0                0.0                 0.0   \n",
       "18                 0.0                0.0                 0.0   \n",
       "19                 0.0                0.0                 0.0   \n",
       "20          1127.17446         459.323092                 0.0   \n",
       "21         1151.597399         663.292754          270.291503   \n",
       "22                 0.0                0.0                 0.0   \n",
       "23           31.828923                0.0                 0.0   \n",
       "24        18885.546214        8770.358243         4763.027382   \n",
       "\n",
       "              2025 Mar            2025 Apr           2025 May 2025 Jun  \\\n",
       "0   3194.2688802780494  1364.0807474775331  555.8622985544666      0.0   \n",
       "1                  0.0                 0.0                0.0      0.0   \n",
       "2                  0.0                 0.0                0.0      0.0   \n",
       "3                  0.0                 0.0                0.0      0.0   \n",
       "4                  0.0                 0.0                0.0      0.0   \n",
       "5                  0.0                 0.0                0.0      0.0   \n",
       "6                  0.0                 0.0                0.0      0.0   \n",
       "7                  0.0                 0.0                0.0      0.0   \n",
       "8                  0.0                 0.0                0.0      0.0   \n",
       "9                  0.0                 0.0                0.0      0.0   \n",
       "10                 0.0                 0.0                0.0      0.0   \n",
       "11                 0.0                 0.0                0.0      0.0   \n",
       "12                 0.0                 0.0                0.0      0.0   \n",
       "13                 0.0                 0.0                0.0      0.0   \n",
       "14                 0.0                 0.0                0.0      0.0   \n",
       "15                 0.0                 0.0                0.0      0.0   \n",
       "16                 0.0                 0.0                0.0      0.0   \n",
       "17                 0.0                 0.0                0.0      0.0   \n",
       "18                 0.0                 0.0                0.0      0.0   \n",
       "19                 0.0                 0.0                0.0      0.0   \n",
       "20                 0.0                 0.0                0.0      0.0   \n",
       "21                 0.0                 0.0                0.0      0.0   \n",
       "22                 0.0                 0.0                0.0      0.0   \n",
       "23                 0.0                 0.0                0.0      0.0   \n",
       "24          3194.26888         1364.080747         555.862299      0.0   \n",
       "\n",
       "   2025 Jul 2025 Aug 2025 Sep  \n",
       "0       0.0      0.0      0.0  \n",
       "1       0.0      0.0      0.0  \n",
       "2       0.0      0.0      0.0  \n",
       "3       0.0      0.0      0.0  \n",
       "4       0.0      0.0      0.0  \n",
       "5       0.0      0.0      0.0  \n",
       "6       0.0      0.0      0.0  \n",
       "7       0.0      0.0      0.0  \n",
       "8       0.0      0.0      0.0  \n",
       "9       0.0      0.0      0.0  \n",
       "10      0.0      0.0      0.0  \n",
       "11      0.0      0.0      0.0  \n",
       "12      0.0      0.0      0.0  \n",
       "13      0.0      0.0      0.0  \n",
       "14      0.0      0.0      0.0  \n",
       "15      0.0      0.0      0.0  \n",
       "16      0.0      0.0      0.0  \n",
       "17      0.0      0.0      0.0  \n",
       "18      0.0      0.0      0.0  \n",
       "19      0.0      0.0      0.0  \n",
       "20      0.0      0.0      0.0  \n",
       "21      0.0      0.0      0.0  \n",
       "22      0.0      0.0      0.0  \n",
       "23      0.0      0.0      0.0  \n",
       "24      0.0      0.0      0.0  \n",
       "\n",
       "[25 rows x 38 columns]"
      ]
     },
     "execution_count": 12,
     "metadata": {},
     "output_type": "execute_result"
    }
   ],
   "source": [
    "# Fore creating the final forecast table\n",
    "# **********************************************************************************\n",
    "\n",
    "shard_base = plan_forecast_craft(base_year, 2023, 0, 2, 0.9)[0]\n",
    "shard_plan = plan_forecast_craft(scenario1, 2024, 1, 1, 0.9)[0]\n",
    "check = pd.concat([shard_base, shard_plan], axis = 0)\n",
    "\n",
    "shard1 = ['Total Attendance', \"\"]\n",
    "shard2 = list(check.iloc[:, 2:].sum(axis = 0).values)\n",
    "\n",
    "check.loc[-1] = np.array(shard1 + shard2)\n",
    "check = check.reset_index(drop = True)\n",
    "\n",
    "shard1 = check.iloc[:-1]\n",
    "shard2 = check.iloc[[-1]]\n",
    "\n",
    "check = pd.concat([shard2, shard1], axis = 0).reset_index(drop = True)\n",
    "check\n"
   ]
  },
  {
   "cell_type": "code",
   "execution_count": 13,
   "metadata": {},
   "outputs": [],
   "source": [
    "def build_plan_summary(spend_data, planning_year, threshold, unit_revenue):\n",
    "    \"\"\"\n",
    "    Build a summary report of the spending plan with total spend, total reward,\n",
    "    cost per reward, and marginal cost per reward for each media and aggregated.\n",
    "\n",
    "    Args:\n",
    "        spend_data (pd.DataFrame): DataFrame containing spending data with columns:\n",
    "            - 'FIS_MO_NB': Fiscal month number.\n",
    "            - Media spending columns (e.g., 'YOT', 'FAB').\n",
    "        planning_year (int): The fiscal year of the current spending plan.\n",
    "\n",
    "    Returns:\n",
    "        pd.DataFrame: A DataFrame 'plan_summary' with columns:\n",
    "            - 'Total Spend'\n",
    "            - 'Total Reward'\n",
    "            - 'Cost per Reward'\n",
    "            - 'Marginal Cost per Reward'\n",
    "        and rows:\n",
    "            - 'Total' (aggregated over all medias)\n",
    "            - One row per media (e.g., 'YOT', 'FAB')\n",
    "    \"\"\"\n",
    "    # Ensure nonlocal access to necessary dataframes\n",
    "    # nonlocal df_curve, df_params, df_time\n",
    "\n",
    "    # Initialize dictionaries to store summary data\n",
    "    total_spend_dict = {}\n",
    "    total_reward_dict = {}\n",
    "    minc_X_dict = {}\n",
    "    mc_X_dict = {}\n",
    "\n",
    "    # List of media columns (exclude 'FIS_MO_NB')\n",
    "    medias = spend_data.columns.tolist()[1:]\n",
    "\n",
    "    # Loop over each media to compute summary metrics\n",
    "    for media in medias:\n",
    "        # Extract spending data for the media\n",
    "        media_spend_data = spend_data[['FIS_MO_NB', media]]\n",
    "\n",
    "\n",
    "        # Total spend for media: sum of monthly spend\n",
    "        total_spend = media_spend_data[media].sum()\n",
    "        total_spend_dict[media] = total_spend\n",
    "\n",
    "\n",
    "        # Call compute_reward_X for the current media\n",
    "        reward_df, minc_X, mc_X = compute_reward_X(media, media_spend_data, planning_year, threshold)\n",
    "\n",
    "        # Total reward for media: sum of the 'aggregated' column\n",
    "        total_reward = reward_df['aggregated'].sum()\n",
    "        total_reward_dict[media] = total_reward\n",
    "\n",
    "        # Store minc_X and mc_X\n",
    "        minc_X_dict[media] = minc_X\n",
    "        mc_X_dict[media] = mc_X\n",
    "\n",
    "\n",
    "    # Calculate aggregated totals\n",
    "    total_spend_agg = sum(total_spend_dict.values())\n",
    "    total_reward_agg = sum(total_reward_dict.values())\n",
    "    minc_X_agg = sum(minc_X_dict.values())\n",
    "    mc_X_agg = sum(mc_X_dict.values())\n",
    "\n",
    "\n",
    "    # Build the summary DataFrame\n",
    "    plan_summary = pd.DataFrame(columns=['Total Spend', 'Total Attendance', 'Cost per Attendance', 'Marginal Cost per Attendance'])\n",
    "\n",
    "    # Add aggregated totals to the summary\n",
    "    plan_summary.loc['Total'] = {\n",
    "        'Total Spend': total_spend_agg,\n",
    "        'Total Attendance': total_reward_agg,\n",
    "        'Cost per Attendance': total_spend_agg / total_reward_agg if total_reward_agg != 0 else np.nan,\n",
    "        'Marginal Cost per Attendance': mc_X_agg / minc_X_agg if minc_X_agg != 0 else np.nan\n",
    "    }\n",
    "\n",
    "    # Add individual media data to the summary\n",
    "    for media in medias:\n",
    "        total_spend = total_spend_dict[media]\n",
    "        total_reward = total_reward_dict[media]\n",
    "        minc_X = minc_X_dict[media]\n",
    "        mc_X = mc_X_dict[media]\n",
    "\n",
    "        plan_summary.loc[media] = {\n",
    "            'Total Spend': total_spend,\n",
    "            'Total Attendance': total_reward,\n",
    "            'Cost per Attendance': total_spend / total_reward if total_reward != 0 else np.nan,\n",
    "            'Marginal Cost per Attendance': mc_X / minc_X if minc_X != 0 else np.nan\n",
    "        }\n",
    "\n",
    "    # Reorder rows: aggregated totals first, then individual medias\n",
    "    plan_summary = plan_summary.reset_index().rename(columns={'index': 'Media'})\n",
    "    plan_summary = plan_summary[['Media', 'Total Spend', 'Total Attendance', 'Cost per Attendance', 'Marginal Cost per Attendance']]\n",
    "\n",
    "    # Add ROAS and MROAS\n",
    "    plan_summary['ROAS'] = unit_revenue * plan_summary['Total Attendance'] / plan_summary['Total Spend']\n",
    "    plan_summary['MROAS'] = 1 + ((unit_revenue - plan_summary['Marginal Cost per Attendance']) / plan_summary['Marginal Cost per Attendance'])\n",
    "\n",
    "\n",
    "    # Round up columns\n",
    "    plan_summary['Total Spend'] = plan_summary['Total Spend'].astype(int)\n",
    "    plan_summary['Total Attendance'] = plan_summary['Total Attendance'].astype(int)\n",
    "    plan_summary['Cost per Attendance'] = plan_summary['Cost per Attendance'].round(1)\n",
    "    plan_summary['Marginal Cost per Attendance'] = plan_summary['Marginal Cost per Attendance'].round(1)\n",
    "    plan_summary['ROAS'] = plan_summary['ROAS'].round(1)\n",
    "    plan_summary['MROAS'] = plan_summary['MROAS'].round(1)\n",
    "\n",
    "\n",
    "    return plan_summary"
   ]
  },
  {
   "cell_type": "code",
   "execution_count": 14,
   "metadata": {},
   "outputs": [
    {
     "data": {
      "text/html": [
       "<div>\n",
       "<style scoped>\n",
       "    .dataframe tbody tr th:only-of-type {\n",
       "        vertical-align: middle;\n",
       "    }\n",
       "\n",
       "    .dataframe tbody tr th {\n",
       "        vertical-align: top;\n",
       "    }\n",
       "\n",
       "    .dataframe thead th {\n",
       "        text-align: right;\n",
       "    }\n",
       "</style>\n",
       "<table border=\"1\" class=\"dataframe\">\n",
       "  <thead>\n",
       "    <tr style=\"text-align: right;\">\n",
       "      <th></th>\n",
       "      <th>Media</th>\n",
       "      <th>Total Spend</th>\n",
       "      <th>Total Attendance</th>\n",
       "      <th>Cost per Attendance</th>\n",
       "      <th>Marginal Cost per Attendance</th>\n",
       "      <th>ROAS</th>\n",
       "      <th>MROAS</th>\n",
       "    </tr>\n",
       "  </thead>\n",
       "  <tbody>\n",
       "    <tr>\n",
       "      <th>0</th>\n",
       "      <td>Total</td>\n",
       "      <td>13630027</td>\n",
       "      <td>1028386</td>\n",
       "      <td>13.3</td>\n",
       "      <td>30.5</td>\n",
       "      <td>7.9</td>\n",
       "      <td>3.4</td>\n",
       "    </tr>\n",
       "    <tr>\n",
       "      <th>1</th>\n",
       "      <td>NTV</td>\n",
       "      <td>5678942</td>\n",
       "      <td>331380</td>\n",
       "      <td>17.1</td>\n",
       "      <td>62.7</td>\n",
       "      <td>6.1</td>\n",
       "      <td>1.7</td>\n",
       "    </tr>\n",
       "    <tr>\n",
       "      <th>2</th>\n",
       "      <td>STR</td>\n",
       "      <td>2205421</td>\n",
       "      <td>149220</td>\n",
       "      <td>14.8</td>\n",
       "      <td>34.3</td>\n",
       "      <td>7.1</td>\n",
       "      <td>3.1</td>\n",
       "    </tr>\n",
       "    <tr>\n",
       "      <th>3</th>\n",
       "      <td>BAN</td>\n",
       "      <td>410196</td>\n",
       "      <td>52691</td>\n",
       "      <td>7.8</td>\n",
       "      <td>16.3</td>\n",
       "      <td>13.5</td>\n",
       "      <td>6.4</td>\n",
       "    </tr>\n",
       "    <tr>\n",
       "      <th>4</th>\n",
       "      <td>RAD</td>\n",
       "      <td>265052</td>\n",
       "      <td>16515</td>\n",
       "      <td>16.0</td>\n",
       "      <td>29.7</td>\n",
       "      <td>6.5</td>\n",
       "      <td>3.5</td>\n",
       "    </tr>\n",
       "    <tr>\n",
       "      <th>5</th>\n",
       "      <td>AFF</td>\n",
       "      <td>77974</td>\n",
       "      <td>12020</td>\n",
       "      <td>6.5</td>\n",
       "      <td>11.0</td>\n",
       "      <td>16.2</td>\n",
       "      <td>9.6</td>\n",
       "    </tr>\n",
       "    <tr>\n",
       "      <th>6</th>\n",
       "      <td>CEM</td>\n",
       "      <td>14105</td>\n",
       "      <td>2048</td>\n",
       "      <td>6.9</td>\n",
       "      <td>9.2</td>\n",
       "      <td>15.2</td>\n",
       "      <td>11.4</td>\n",
       "    </tr>\n",
       "    <tr>\n",
       "      <th>7</th>\n",
       "      <td>SEM</td>\n",
       "      <td>1075893</td>\n",
       "      <td>118347</td>\n",
       "      <td>9.1</td>\n",
       "      <td>19.7</td>\n",
       "      <td>11.5</td>\n",
       "      <td>5.3</td>\n",
       "    </tr>\n",
       "    <tr>\n",
       "      <th>8</th>\n",
       "      <td>Total_Social</td>\n",
       "      <td>3902440</td>\n",
       "      <td>346163</td>\n",
       "      <td>11.3</td>\n",
       "      <td>26.9</td>\n",
       "      <td>9.3</td>\n",
       "      <td>3.9</td>\n",
       "    </tr>\n",
       "  </tbody>\n",
       "</table>\n",
       "</div>"
      ],
      "text/plain": [
       "          Media  Total Spend  Total Attendance  Cost per Attendance  \\\n",
       "0         Total     13630027           1028386                 13.3   \n",
       "1           NTV      5678942            331380                 17.1   \n",
       "2           STR      2205421            149220                 14.8   \n",
       "3           BAN       410196             52691                  7.8   \n",
       "4           RAD       265052             16515                 16.0   \n",
       "5           AFF        77974             12020                  6.5   \n",
       "6           CEM        14105              2048                  6.9   \n",
       "7           SEM      1075893            118347                  9.1   \n",
       "8  Total_Social      3902440            346163                 11.3   \n",
       "\n",
       "   Marginal Cost per Attendance  ROAS  MROAS  \n",
       "0                          30.5   7.9    3.4  \n",
       "1                          62.7   6.1    1.7  \n",
       "2                          34.3   7.1    3.1  \n",
       "3                          16.3  13.5    6.4  \n",
       "4                          29.7   6.5    3.5  \n",
       "5                          11.0  16.2    9.6  \n",
       "6                           9.2  15.2   11.4  \n",
       "7                          19.7  11.5    5.3  \n",
       "8                          26.9   9.3    3.9  "
      ]
     },
     "execution_count": 14,
     "metadata": {},
     "output_type": "execute_result"
    }
   ],
   "source": [
    "build_plan_summary(base_year, 2024, 0.9, ticket_price) "
   ]
  },
  {
   "cell_type": "markdown",
   "metadata": {},
   "source": [
    "# Scenrio Plots"
   ]
  },
  {
   "cell_type": "code",
   "execution_count": 15,
   "metadata": {},
   "outputs": [],
   "source": [
    "import plotly.graph_objects as go\n",
    "from plotly.subplots import make_subplots"
   ]
  },
  {
   "cell_type": "code",
   "execution_count": 16,
   "metadata": {},
   "outputs": [
    {
     "data": {
      "text/plain": [
       "[2, 2, 3]"
      ]
     },
     "execution_count": 16,
     "metadata": {},
     "output_type": "execute_result"
    }
   ],
   "source": [
    "l1 = [1, 2, 3]\n",
    "l2 = [2, 1, 2]\n",
    "[max(l1[i], l2[i]) for i in np.arange(len(l1))]"
   ]
  },
  {
   "cell_type": "code",
   "execution_count": 17,
   "metadata": {},
   "outputs": [
    {
     "data": {
      "text/plain": [
       "array([0, 1, 2])"
      ]
     },
     "execution_count": 17,
     "metadata": {},
     "output_type": "execute_result"
    }
   ],
   "source": [
    "np.arange(3)"
   ]
  },
  {
   "cell_type": "code",
   "execution_count": null,
   "metadata": {},
   "outputs": [],
   "source": [
    "def scenario_plots(scenarios, metrics, channels, colors, title, ylabel1, ylabel2, currency_symbol):\n",
    "    # **********************************************************************************\n",
    "    # Read numbers\n",
    "    # **********************************************************************************\n",
    "    board1 = scenarios[0]\n",
    "    board2 = scenarios[1]\n",
    "\n",
    "    metric1 = metrics[0]\n",
    "    metric2 = metrics[1]\n",
    "\n",
    "    metric1_s1 = board1[metric1].values\n",
    "    metric1_s2 = board2[metric1].values\n",
    "    max_metric1 =  max(max(metric1_s1), max(metric1_s2))\n",
    "\n",
    "    metric2_s1 = board1[metric2].values\n",
    "    metric2_s2 = board2[metric2].values\n",
    "    max_metric2 = max(max(metric2_s1), max(metric2_s2))\n",
    "\n",
    "    metric1_compare = [(s2 - s1) / s1 * 100 for s1, s2 in zip(metric1_s1, metric1_s2)]\n",
    "    metric2_compare = [(s2 - s1) / s1 * 100 for s1, s2 in zip(metric2_s1, metric2_s2)]\n",
    "\n",
    "    color1_s1 = colors[0]\n",
    "    color1_s2 = colors[1]\n",
    "    color2_s1 = colors[2]\n",
    "    color2_s2 = colors[3]\n",
    "\n",
    "    default_textpos = 0.5 * max_metric1\n",
    "\n",
    "    # Create figure with secondary y-axis\n",
    "    fig = make_subplots(specs=[[{\"secondary_y\": True}]])\n",
    "\n",
    "    # **********************************************************************************\n",
    "    # The bar plots\n",
    "    # **********************************************************************************\n",
    "    # Scenario 1\n",
    "    # ....................................................\n",
    "    fig.add_trace(\n",
    "        go.Bar(\n",
    "            x= channels,\n",
    "            y= metric1_s1,\n",
    "            name= \"1\",\n",
    "            marker_color= color1_s1\n",
    "        ),\n",
    "        secondary_y=False,\n",
    "    )\n",
    "\n",
    "    # Scenario 2\n",
    "    # ....................................................\n",
    "    fig.add_trace(\n",
    "        go.Bar(\n",
    "            x= channels,\n",
    "            y= metric1_s2,\n",
    "            name= \"2\",\n",
    "            marker_color= color1_s2\n",
    "        ),\n",
    "        secondary_y=False,\n",
    "    )\n",
    "\n",
    "\n",
    "\n",
    "\n",
    "    # **********************************************************************************\n",
    "    # Line plots\n",
    "    # **********************************************************************************\n",
    "    # Scenario 1\n",
    "    # ....................................................\n",
    "    fig.add_trace(\n",
    "        go.Scatter(\n",
    "            x=channels,\n",
    "            y= metric2_s1,\n",
    "            name=\"MROAS 1\",\n",
    "            line=dict(\n",
    "                color= color2_s1, \n",
    "                width=3, dash='dash',\n",
    "                shape='spline',  # This creates a smooth curve\n",
    "                smoothing=1.3    # Adjust smoothing intensity (0.5-1.5 range works well)\n",
    "                ),\n",
    "            marker=dict(\n",
    "                size=10,         # Larger marker size\n",
    "                color=color2_s1,\n",
    "                line=dict(\n",
    "                    width=1,\n",
    "                    color='white'\n",
    "                )\n",
    "            )\n",
    "\n",
    "        ),\n",
    "        secondary_y=True,\n",
    "    )\n",
    "\n",
    "    # Scenario 2\n",
    "    # ....................................................\n",
    "    fig.add_trace(\n",
    "        go.Scatter(\n",
    "            x=channels,\n",
    "            y= metric2_s2,\n",
    "            name=\"MROAS 2\",\n",
    "            line=dict(color= color2_s2, \n",
    "                      width=3, dash='dash',\n",
    "                      shape='spline',  # This creates a smooth curve\n",
    "                      smoothing=1.3    # Adjust smoothing intensity (0.5-1.5 range works well)\n",
    "                ),\n",
    "            marker=dict(\n",
    "                size=10,         # Larger marker size\n",
    "                color=color2_s2,\n",
    "                line=dict(\n",
    "                    width=1,\n",
    "                    color='white'\n",
    "                )\n",
    "            )\n",
    "        ),\n",
    "        secondary_y=True,\n",
    "    )\n",
    "\n",
    "\n",
    "\n",
    "\n",
    "    # **********************************************************************************\n",
    "    # Costmetics\n",
    "    # **********************************************************************************\n",
    "\n",
    "    # Annotations for metric 1 change\n",
    "    for i, channel in enumerate(channels):\n",
    "        change = metric1_compare[i]\n",
    "        \n",
    "        # Determine color based on change\n",
    "        color = \"green\" if change >= 0 else \"red\"\n",
    "        \n",
    "        # Format text with plus/minus sign and percentage\n",
    "        if change >= 0:\n",
    "            text = f\"+{change:.1f}%\"  # Add plus sign for positive changes\n",
    "        else:\n",
    "            text = f\"{change:.1f}%\"   # Negative sign is automatically included\n",
    "        \n",
    "        # Improved positioning logic\n",
    "        current_value = max(metric1_s1[i], metric1_s2[i])\n",
    "        \n",
    "        # If the value is very small (less than 5% of the maximum), use a fixed position\n",
    "        if current_value < 0.03 * max_metric1:\n",
    "            ypos = 0.12 * max_metric1  # Position at 15% of max height for very small values\n",
    "        # If it's the maximum value, add a bit more space\n",
    "        elif current_value >= 0.95 * max_metric1:\n",
    "            ypos = 1.05 * max_metric1  # Position at 110% of max for the largest values\n",
    "        # For medium values, position proportionally\n",
    "        else:\n",
    "            ypos = current_value + (0.125 * max_metric1)  # Position above the bar with consistent spacing\n",
    "        \n",
    "        # Add the annotation without arrows\n",
    "        fig.add_annotation(\n",
    "            x=channel,\n",
    "            y=ypos, \n",
    "            text=text,\n",
    "            showarrow=False,  # No arrow\n",
    "            font=dict(\n",
    "                color=color, \n",
    "                size=14,      # Slightly larger font for better visibility\n",
    "                weight='bold' # Make it bold for emphasis\n",
    "            ),\n",
    "            align='center',\n",
    "            bgcolor='rgba(255,255,255,0.7)',  # Semi-transparent white background\n",
    "            bordercolor=color,\n",
    "            borderwidth=1,\n",
    "            borderpad=3\n",
    "        )\n",
    "\n",
    "\n",
    "\n",
    "\n",
    "    fig.update_layout(\n",
    "        # Wider plot for spacing\n",
    "        width=1300,\n",
    "        height=700,\n",
    "        # Extra large left margin\n",
    "        margin=dict(t=80, r=50, b=100, l=150),\n",
    "        # Title styling\n",
    "        title=dict(\n",
    "            text= title,\n",
    "            font=dict(\n",
    "                size=28,\n",
    "                color= color1_s2,\n",
    "                weight='bold'\n",
    "            ),\n",
    "            x=0.5\n",
    "        ),\n",
    "        # Other layout\n",
    "        barmode='group',\n",
    "        legend=dict(\n",
    "            orientation=\"h\",\n",
    "            yanchor=\"bottom\", \n",
    "            y=-0.15,\n",
    "            xanchor=\"center\",\n",
    "            x=0.5\n",
    "        ),\n",
    "        paper_bgcolor='white',\n",
    "        plot_bgcolor='white'\n",
    "    )\n",
    "\n",
    "    # Set x-axis properties\n",
    "    fig.update_xaxes(\n",
    "        title_text=\"\",\n",
    "        showgrid=False,\n",
    "        showline=True,\n",
    "        linewidth=2,\n",
    "        linecolor='lightgray'\n",
    "    )\n",
    "\n",
    "    # Set y-axes properties\n",
    "    fig.update_yaxes(\n",
    "        title_text= ylabel1,\n",
    "        title_font=dict(size=16),\n",
    "        range=[0, 1.2 * max(max(metric1_s2), max(metric1_s1))],\n",
    "        showgrid=True,\n",
    "        gridcolor='lightgray',\n",
    "        secondary_y=False,\n",
    "        tickformat=','\n",
    "    )\n",
    "\n",
    "    fig.update_yaxes(\n",
    "        title_text= ylabel2,\n",
    "        title_font=dict(size=16),\n",
    "        range=[0, 1.2 * max(max(metric2_s2), max(metric2_s1))],\n",
    "        showgrid=False,\n",
    "        secondary_y=True,\n",
    "        tickprefix= currency_symbol,\n",
    "        ticksuffix='.0'\n",
    "    )\n",
    "\n",
    "    # Show the figure\n",
    "    fig.show()"
   ]
  },
  {
   "cell_type": "code",
   "execution_count": 28,
   "metadata": {},
   "outputs": [
    {
     "data": {
      "application/vnd.plotly.v1+json": {
       "config": {
        "plotlyServerURL": "https://plot.ly"
       },
       "data": [
        {
         "marker": {
          "color": "rgb(174, 139, 113)"
         },
         "name": "1",
         "type": "bar",
         "x": [
          "NTV",
          "STR",
          "BAN",
          "RAD",
          "AFF",
          "CEM",
          "SEM",
          "Total_Social"
         ],
         "xaxis": "x",
         "y": {
          "bdata": "XqdWAO2mIQBUQgYAXAsEAJYwAQAZNwAAtWoQAOiLOwA=",
          "dtype": "i4"
         },
         "yaxis": "y"
        },
        {
         "marker": {
          "color": "rgb(140, 63, 12)"
         },
         "name": "2",
         "type": "bar",
         "x": [
          "NTV",
          "STR",
          "BAN",
          "RAD",
          "AFF",
          "CEM",
          "SEM",
          "Total_Social"
         ],
         "xaxis": "x",
         "y": {
          "bdata": "ssZOAMGXHgCpsAUAPa0DAOYUAQAXMgAApOwOABkiNgA=",
          "dtype": "i4"
         },
         "yaxis": "y"
        },
        {
         "line": {
          "color": "rgb(174, 139, 113)",
          "dash": "dash",
          "shape": "spline",
          "smoothing": 1.3,
          "width": 3
         },
         "marker": {
          "color": "rgb(174, 139, 113)",
          "line": {
           "color": "white",
           "width": 1
          },
          "size": 10
         },
         "name": "MROAS 1",
         "type": "scatter",
         "x": [
          "NTV",
          "STR",
          "BAN",
          "RAD",
          "AFF",
          "CEM",
          "SEM",
          "Total_Social"
         ],
         "xaxis": "x",
         "y": {
          "bdata": "MzMzMzMz+z/NzMzMzMwIQJqZmZmZmRlAAAAAAAAADEAzMzMzMzMjQM3MzMzMzCZAMzMzMzMzFUAzMzMzMzMPQA==",
          "dtype": "f8"
         },
         "yaxis": "y2"
        },
        {
         "line": {
          "color": "rgb(140, 63, 12)",
          "dash": "dash",
          "shape": "spline",
          "smoothing": 1.3,
          "width": 3
         },
         "marker": {
          "color": "rgb(140, 63, 12)",
          "line": {
           "color": "white",
           "width": 1
          },
          "size": 10
         },
         "name": "MROAS 2",
         "type": "scatter",
         "x": [
          "NTV",
          "STR",
          "BAN",
          "RAD",
          "AFF",
          "CEM",
          "SEM",
          "Total_Social"
         ],
         "xaxis": "x",
         "y": {
          "bdata": "zczMzMzM/D+amZmZmZkJQDMzMzMzMxtAmpmZmZmZDUDNzMzMzMwjQGZmZmZmZidAZmZmZmZmFkBmZmZmZmYQQA==",
          "dtype": "f8"
         },
         "yaxis": "y2"
        }
       ],
       "layout": {
        "annotations": [
         {
          "align": "center",
          "bgcolor": "rgba(255,255,255,0.7)",
          "bordercolor": "red",
          "borderpad": 3,
          "borderwidth": 1,
          "font": {
           "color": "red",
           "size": 14,
           "weight": "bold"
          },
          "showarrow": false,
          "text": "-9.1%",
          "x": "NTV",
          "y": 5962889.100000001
         },
         {
          "align": "center",
          "bgcolor": "rgba(255,255,255,0.7)",
          "bordercolor": "red",
          "borderpad": 3,
          "borderwidth": 1,
          "font": {
           "color": "red",
           "size": 14,
           "weight": "bold"
          },
          "showarrow": false,
          "text": "-9.1%",
          "x": "STR",
          "y": 2915288.75
         },
         {
          "align": "center",
          "bgcolor": "rgba(255,255,255,0.7)",
          "bordercolor": "red",
          "borderpad": 3,
          "borderwidth": 1,
          "font": {
           "color": "red",
           "size": 14,
           "weight": "bold"
          },
          "showarrow": false,
          "text": "-9.1%",
          "x": "BAN",
          "y": 1120063.75
         },
         {
          "align": "center",
          "bgcolor": "rgba(255,255,255,0.7)",
          "bordercolor": "red",
          "borderpad": 3,
          "borderwidth": 1,
          "font": {
           "color": "red",
           "size": 14,
           "weight": "bold"
          },
          "showarrow": false,
          "text": "-9.1%",
          "x": "RAD",
          "y": 974919.75
         },
         {
          "align": "center",
          "bgcolor": "rgba(255,255,255,0.7)",
          "bordercolor": "red",
          "borderpad": 3,
          "borderwidth": 1,
          "font": {
           "color": "red",
           "size": 14,
           "weight": "bold"
          },
          "showarrow": false,
          "text": "-9.1%",
          "x": "AFF",
          "y": 681473.0399999999
         },
         {
          "align": "center",
          "bgcolor": "rgba(255,255,255,0.7)",
          "bordercolor": "red",
          "borderpad": 3,
          "borderwidth": 1,
          "font": {
           "color": "red",
           "size": 14,
           "weight": "bold"
          },
          "showarrow": false,
          "text": "-9.1%",
          "x": "CEM",
          "y": 681473.0399999999
         },
         {
          "align": "center",
          "bgcolor": "rgba(255,255,255,0.7)",
          "bordercolor": "red",
          "borderpad": 3,
          "borderwidth": 1,
          "font": {
           "color": "red",
           "size": 14,
           "weight": "bold"
          },
          "showarrow": false,
          "text": "-9.1%",
          "x": "SEM",
          "y": 1785760.75
         },
         {
          "align": "center",
          "bgcolor": "rgba(255,255,255,0.7)",
          "bordercolor": "red",
          "borderpad": 3,
          "borderwidth": 1,
          "font": {
           "color": "red",
           "size": 14,
           "weight": "bold"
          },
          "showarrow": false,
          "text": "-9.1%",
          "x": "Total_Social",
          "y": 4612307.75
         }
        ],
        "barmode": "group",
        "height": 700,
        "legend": {
         "orientation": "h",
         "x": 0.5,
         "xanchor": "center",
         "y": -0.15,
         "yanchor": "bottom"
        },
        "margin": {
         "b": 100,
         "l": 150,
         "r": 50,
         "t": 80
        },
        "paper_bgcolor": "white",
        "plot_bgcolor": "white",
        "template": {
         "data": {
          "candlestick": [
           {
            "decreasing": {
             "line": {
              "color": "#000033"
             }
            },
            "increasing": {
             "line": {
              "color": "#000032"
             }
            },
            "type": "candlestick"
           }
          ],
          "contour": [
           {
            "colorscale": [
             [
              0,
              "#000011"
             ],
             [
              0.1111111111111111,
              "#000012"
             ],
             [
              0.2222222222222222,
              "#000013"
             ],
             [
              0.3333333333333333,
              "#000014"
             ],
             [
              0.4444444444444444,
              "#000015"
             ],
             [
              0.5555555555555556,
              "#000016"
             ],
             [
              0.6666666666666666,
              "#000017"
             ],
             [
              0.7777777777777778,
              "#000018"
             ],
             [
              0.8888888888888888,
              "#000019"
             ],
             [
              1,
              "#000020"
             ]
            ],
            "type": "contour"
           }
          ],
          "contourcarpet": [
           {
            "colorscale": [
             [
              0,
              "#000011"
             ],
             [
              0.1111111111111111,
              "#000012"
             ],
             [
              0.2222222222222222,
              "#000013"
             ],
             [
              0.3333333333333333,
              "#000014"
             ],
             [
              0.4444444444444444,
              "#000015"
             ],
             [
              0.5555555555555556,
              "#000016"
             ],
             [
              0.6666666666666666,
              "#000017"
             ],
             [
              0.7777777777777778,
              "#000018"
             ],
             [
              0.8888888888888888,
              "#000019"
             ],
             [
              1,
              "#000020"
             ]
            ],
            "type": "contourcarpet"
           }
          ],
          "heatmap": [
           {
            "colorscale": [
             [
              0,
              "#000011"
             ],
             [
              0.1111111111111111,
              "#000012"
             ],
             [
              0.2222222222222222,
              "#000013"
             ],
             [
              0.3333333333333333,
              "#000014"
             ],
             [
              0.4444444444444444,
              "#000015"
             ],
             [
              0.5555555555555556,
              "#000016"
             ],
             [
              0.6666666666666666,
              "#000017"
             ],
             [
              0.7777777777777778,
              "#000018"
             ],
             [
              0.8888888888888888,
              "#000019"
             ],
             [
              1,
              "#000020"
             ]
            ],
            "type": "heatmap"
           }
          ],
          "histogram2d": [
           {
            "colorscale": [
             [
              0,
              "#000011"
             ],
             [
              0.1111111111111111,
              "#000012"
             ],
             [
              0.2222222222222222,
              "#000013"
             ],
             [
              0.3333333333333333,
              "#000014"
             ],
             [
              0.4444444444444444,
              "#000015"
             ],
             [
              0.5555555555555556,
              "#000016"
             ],
             [
              0.6666666666666666,
              "#000017"
             ],
             [
              0.7777777777777778,
              "#000018"
             ],
             [
              0.8888888888888888,
              "#000019"
             ],
             [
              1,
              "#000020"
             ]
            ],
            "type": "histogram2d"
           }
          ],
          "icicle": [
           {
            "textfont": {
             "color": "white"
            },
            "type": "icicle"
           }
          ],
          "sankey": [
           {
            "textfont": {
             "color": "#000036"
            },
            "type": "sankey"
           }
          ],
          "scatter": [
           {
            "marker": {
             "line": {
              "width": 0
             }
            },
            "type": "scatter"
           }
          ],
          "table": [
           {
            "cells": {
             "fill": {
              "color": "#000038"
             },
             "font": {
              "color": "#000037"
             },
             "line": {
              "color": "#000039"
             }
            },
            "header": {
             "fill": {
              "color": "#000040"
             },
             "font": {
              "color": "#000036"
             },
             "line": {
              "color": "#000039"
             }
            },
            "type": "table"
           }
          ],
          "waterfall": [
           {
            "connector": {
             "line": {
              "color": "#000036",
              "width": 2
             }
            },
            "decreasing": {
             "marker": {
              "color": "#000033"
             }
            },
            "increasing": {
             "marker": {
              "color": "#000032"
             }
            },
            "totals": {
             "marker": {
              "color": "#000034"
             }
            },
            "type": "waterfall"
           }
          ]
         },
         "layout": {
          "coloraxis": {
           "colorscale": [
            [
             0,
             "#000011"
            ],
            [
             0.1111111111111111,
             "#000012"
            ],
            [
             0.2222222222222222,
             "#000013"
            ],
            [
             0.3333333333333333,
             "#000014"
            ],
            [
             0.4444444444444444,
             "#000015"
            ],
            [
             0.5555555555555556,
             "#000016"
            ],
            [
             0.6666666666666666,
             "#000017"
            ],
            [
             0.7777777777777778,
             "#000018"
            ],
            [
             0.8888888888888888,
             "#000019"
            ],
            [
             1,
             "#000020"
            ]
           ]
          },
          "colorscale": {
           "diverging": [
            [
             0,
             "#000021"
            ],
            [
             0.1,
             "#000022"
            ],
            [
             0.2,
             "#000023"
            ],
            [
             0.3,
             "#000024"
            ],
            [
             0.4,
             "#000025"
            ],
            [
             0.5,
             "#000026"
            ],
            [
             0.6,
             "#000027"
            ],
            [
             0.7,
             "#000028"
            ],
            [
             0.8,
             "#000029"
            ],
            [
             0.9,
             "#000030"
            ],
            [
             1,
             "#000031"
            ]
           ],
           "sequential": [
            [
             0,
             "#000011"
            ],
            [
             0.1111111111111111,
             "#000012"
            ],
            [
             0.2222222222222222,
             "#000013"
            ],
            [
             0.3333333333333333,
             "#000014"
            ],
            [
             0.4444444444444444,
             "#000015"
            ],
            [
             0.5555555555555556,
             "#000016"
            ],
            [
             0.6666666666666666,
             "#000017"
            ],
            [
             0.7777777777777778,
             "#000018"
            ],
            [
             0.8888888888888888,
             "#000019"
            ],
            [
             1,
             "#000020"
            ]
           ],
           "sequentialminus": [
            [
             0,
             "#000011"
            ],
            [
             0.1111111111111111,
             "#000012"
            ],
            [
             0.2222222222222222,
             "#000013"
            ],
            [
             0.3333333333333333,
             "#000014"
            ],
            [
             0.4444444444444444,
             "#000015"
            ],
            [
             0.5555555555555556,
             "#000016"
            ],
            [
             0.6666666666666666,
             "#000017"
            ],
            [
             0.7777777777777778,
             "#000018"
            ],
            [
             0.8888888888888888,
             "#000019"
            ],
            [
             1,
             "#000020"
            ]
           ]
          },
          "colorway": [
           "#000001",
           "#000002",
           "#000003",
           "#000004",
           "#000005",
           "#000006",
           "#000007",
           "#000008",
           "#000009",
           "#000010"
          ]
         }
        },
        "title": {
         "font": {
          "color": "rgb(140, 63, 12)",
          "size": 28,
          "weight": "bold"
         },
         "text": "Media budget & MROAS variation per touchpoint",
         "x": 0.5
        },
        "width": 1300,
        "xaxis": {
         "anchor": "y",
         "domain": [
          0,
          0.94
         ],
         "linecolor": "lightgray",
         "linewidth": 2,
         "showgrid": false,
         "showline": true,
         "title": {
          "text": ""
         }
        },
        "yaxis": {
         "anchor": "x",
         "domain": [
          0,
          1
         ],
         "gridcolor": "lightgray",
         "range": [
          0,
          6814730.399999999
         ],
         "showgrid": true,
         "tickformat": ",",
         "title": {
          "font": {
           "size": 16
          },
          "text": ""
         }
        },
        "yaxis2": {
         "anchor": "x",
         "overlaying": "y",
         "range": [
          0,
          14.04
         ],
         "showgrid": false,
         "side": "right",
         "tickprefix": "£",
         "ticksuffix": ".0",
         "title": {
          "font": {
           "size": 16
          },
          "text": ""
         }
        }
       }
      }
     },
     "metadata": {},
     "output_type": "display_data"
    }
   ],
   "source": [
    "scenario_plots(\n",
    "    scenarios = [build_plan_summary(scenario2, 2024, 0.9, ticket_price).iloc[1:, :], \n",
    "                 build_plan_summary(scenario1, 2024, 0.9, ticket_price).iloc[1:, :]],\n",
    "\n",
    "    metrics = ['Total Spend', 'MROAS'],\n",
    "\n",
    "    channels = media_list,\n",
    "\n",
    "    colors = ['rgb(174, 139, 113)', \n",
    "            'rgb(140, 63, 12)',\n",
    "            'rgb(174, 139, 113)',\n",
    "            'rgb(140, 63, 12)'\n",
    "            \n",
    "            ],\n",
    "\n",
    "    title = \"Media budget & MROAS variation per touchpoint\", \n",
    "\n",
    "    ylabel1 = \"\", ylabel2= \"\", currency_symbol = \"£\" \n",
    ")"
   ]
  },
  {
   "cell_type": "code",
   "execution_count": 29,
   "metadata": {},
   "outputs": [
    {
     "data": {
      "application/vnd.plotly.v1+json": {
       "config": {
        "plotlyServerURL": "https://plot.ly"
       },
       "data": [
        {
         "marker": {
          "color": "rgb(188, 214, 150)"
         },
         "name": "1",
         "type": "bar",
         "x": [
          "NTV",
          "STR",
          "BAN",
          "RAD",
          "AFF",
          "CEM",
          "SEM",
          "Total_Social"
         ],
         "xaxis": "x",
         "y": {
          "bdata": "He0EAH4vAgCrxAAARj0AAF0sAAByBwAAgboBAHkTBQA=",
          "dtype": "i4"
         },
         "yaxis": "y"
        },
        {
         "marker": {
          "color": "rgb(36, 84, 40)"
         },
         "name": "2",
         "type": "bar",
         "x": [
          "NTV",
          "STR",
          "BAN",
          "RAD",
          "AFF",
          "CEM",
          "SEM",
          "Total_Social"
         ],
         "xaxis": "x",
         "y": {
          "bdata": "dA4FAORGAgDTzQAAg0AAAPQuAAAACAAAS84BADNIBQA=",
          "dtype": "i4"
         },
         "yaxis": "y"
        },
        {
         "line": {
          "color": "rgb(188, 214, 150)",
          "dash": "dash",
          "shape": "spline",
          "smoothing": 1.3,
          "width": 3
         },
         "marker": {
          "color": "rgb(188, 214, 150)",
          "line": {
           "color": "white",
           "width": 1
          },
          "size": 10
         },
         "name": "MROAS 1",
         "type": "scatter",
         "x": [
          "NTV",
          "STR",
          "BAN",
          "RAD",
          "AFF",
          "CEM",
          "SEM",
          "Total_Social"
         ],
         "xaxis": "x",
         "y": {
          "bdata": "AAAAAAAAMEAAAAAAAAAsQJqZmZmZmR1AzczMzMzMLkDNzMzMzMwYQM3MzMzMzBpAMzMzMzMzIUBmZmZmZmYlQA==",
          "dtype": "f8"
         },
         "yaxis": "y2"
        },
        {
         "line": {
          "color": "rgb(36, 84, 40)",
          "dash": "dash",
          "shape": "spline",
          "smoothing": 1.3,
          "width": 3
         },
         "marker": {
          "color": "rgb(36, 84, 40)",
          "line": {
           "color": "white",
           "width": 1
          },
          "size": 10
         },
         "name": "MROAS 2",
         "type": "scatter",
         "x": [
          "NTV",
          "STR",
          "BAN",
          "RAD",
          "AFF",
          "CEM",
          "SEM",
          "Total_Social"
         ],
         "xaxis": "x",
         "y": {
          "bdata": "mpmZmZkZMUCamZmZmZktQDMzMzMzMx9AAAAAAAAAMEAAAAAAAAAaQJqZmZmZmRtAMzMzMzMzIkCamZmZmZkmQA==",
          "dtype": "f8"
         },
         "yaxis": "y2"
        }
       ],
       "layout": {
        "annotations": [
         {
          "align": "center",
          "bgcolor": "rgba(255,255,255,0.7)",
          "bordercolor": "green",
          "borderpad": 3,
          "borderwidth": 1,
          "font": {
           "color": "green",
           "size": 14,
           "weight": "bold"
          },
          "showarrow": false,
          "text": "+2.6%",
          "x": "NTV",
          "y": 363471.15
         },
         {
          "align": "center",
          "bgcolor": "rgba(255,255,255,0.7)",
          "bordercolor": "green",
          "borderpad": 3,
          "borderwidth": 1,
          "font": {
           "color": "green",
           "size": 14,
           "weight": "bold"
          },
          "showarrow": false,
          "text": "+4.2%",
          "x": "STR",
          "y": 192490.375
         },
         {
          "align": "center",
          "bgcolor": "rgba(255,255,255,0.7)",
          "bordercolor": "green",
          "borderpad": 3,
          "borderwidth": 1,
          "font": {
           "color": "green",
           "size": 14,
           "weight": "bold"
          },
          "showarrow": false,
          "text": "+4.7%",
          "x": "BAN",
          "y": 95961.375
         },
         {
          "align": "center",
          "bgcolor": "rgba(255,255,255,0.7)",
          "bordercolor": "green",
          "borderpad": 3,
          "borderwidth": 1,
          "font": {
           "color": "green",
           "size": 14,
           "weight": "bold"
          },
          "showarrow": false,
          "text": "+5.3%",
          "x": "RAD",
          "y": 59785.375
         },
         {
          "align": "center",
          "bgcolor": "rgba(255,255,255,0.7)",
          "bordercolor": "green",
          "borderpad": 3,
          "borderwidth": 1,
          "font": {
           "color": "green",
           "size": 14,
           "weight": "bold"
          },
          "showarrow": false,
          "text": "+5.8%",
          "x": "AFF",
          "y": 55290.375
         },
         {
          "align": "center",
          "bgcolor": "rgba(255,255,255,0.7)",
          "bordercolor": "green",
          "borderpad": 3,
          "borderwidth": 1,
          "font": {
           "color": "green",
           "size": 14,
           "weight": "bold"
          },
          "showarrow": false,
          "text": "+7.5%",
          "x": "CEM",
          "y": 41539.56
         },
         {
          "align": "center",
          "bgcolor": "rgba(255,255,255,0.7)",
          "bordercolor": "green",
          "borderpad": 3,
          "borderwidth": 1,
          "font": {
           "color": "green",
           "size": 14,
           "weight": "bold"
          },
          "showarrow": false,
          "text": "+4.5%",
          "x": "SEM",
          "y": 161617.375
         },
         {
          "align": "center",
          "bgcolor": "rgba(255,255,255,0.7)",
          "bordercolor": "green",
          "borderpad": 3,
          "borderwidth": 1,
          "font": {
           "color": "green",
           "size": 14,
           "weight": "bold"
          },
          "showarrow": false,
          "text": "+4.1%",
          "x": "Total_Social",
          "y": 363471.15
         }
        ],
        "barmode": "group",
        "height": 700,
        "legend": {
         "orientation": "h",
         "x": 0.5,
         "xanchor": "center",
         "y": -0.15,
         "yanchor": "bottom"
        },
        "margin": {
         "b": 100,
         "l": 150,
         "r": 50,
         "t": 80
        },
        "paper_bgcolor": "white",
        "plot_bgcolor": "white",
        "template": {
         "data": {
          "candlestick": [
           {
            "decreasing": {
             "line": {
              "color": "#000033"
             }
            },
            "increasing": {
             "line": {
              "color": "#000032"
             }
            },
            "type": "candlestick"
           }
          ],
          "contour": [
           {
            "colorscale": [
             [
              0,
              "#000011"
             ],
             [
              0.1111111111111111,
              "#000012"
             ],
             [
              0.2222222222222222,
              "#000013"
             ],
             [
              0.3333333333333333,
              "#000014"
             ],
             [
              0.4444444444444444,
              "#000015"
             ],
             [
              0.5555555555555556,
              "#000016"
             ],
             [
              0.6666666666666666,
              "#000017"
             ],
             [
              0.7777777777777778,
              "#000018"
             ],
             [
              0.8888888888888888,
              "#000019"
             ],
             [
              1,
              "#000020"
             ]
            ],
            "type": "contour"
           }
          ],
          "contourcarpet": [
           {
            "colorscale": [
             [
              0,
              "#000011"
             ],
             [
              0.1111111111111111,
              "#000012"
             ],
             [
              0.2222222222222222,
              "#000013"
             ],
             [
              0.3333333333333333,
              "#000014"
             ],
             [
              0.4444444444444444,
              "#000015"
             ],
             [
              0.5555555555555556,
              "#000016"
             ],
             [
              0.6666666666666666,
              "#000017"
             ],
             [
              0.7777777777777778,
              "#000018"
             ],
             [
              0.8888888888888888,
              "#000019"
             ],
             [
              1,
              "#000020"
             ]
            ],
            "type": "contourcarpet"
           }
          ],
          "heatmap": [
           {
            "colorscale": [
             [
              0,
              "#000011"
             ],
             [
              0.1111111111111111,
              "#000012"
             ],
             [
              0.2222222222222222,
              "#000013"
             ],
             [
              0.3333333333333333,
              "#000014"
             ],
             [
              0.4444444444444444,
              "#000015"
             ],
             [
              0.5555555555555556,
              "#000016"
             ],
             [
              0.6666666666666666,
              "#000017"
             ],
             [
              0.7777777777777778,
              "#000018"
             ],
             [
              0.8888888888888888,
              "#000019"
             ],
             [
              1,
              "#000020"
             ]
            ],
            "type": "heatmap"
           }
          ],
          "histogram2d": [
           {
            "colorscale": [
             [
              0,
              "#000011"
             ],
             [
              0.1111111111111111,
              "#000012"
             ],
             [
              0.2222222222222222,
              "#000013"
             ],
             [
              0.3333333333333333,
              "#000014"
             ],
             [
              0.4444444444444444,
              "#000015"
             ],
             [
              0.5555555555555556,
              "#000016"
             ],
             [
              0.6666666666666666,
              "#000017"
             ],
             [
              0.7777777777777778,
              "#000018"
             ],
             [
              0.8888888888888888,
              "#000019"
             ],
             [
              1,
              "#000020"
             ]
            ],
            "type": "histogram2d"
           }
          ],
          "icicle": [
           {
            "textfont": {
             "color": "white"
            },
            "type": "icicle"
           }
          ],
          "sankey": [
           {
            "textfont": {
             "color": "#000036"
            },
            "type": "sankey"
           }
          ],
          "scatter": [
           {
            "marker": {
             "line": {
              "width": 0
             }
            },
            "type": "scatter"
           }
          ],
          "table": [
           {
            "cells": {
             "fill": {
              "color": "#000038"
             },
             "font": {
              "color": "#000037"
             },
             "line": {
              "color": "#000039"
             }
            },
            "header": {
             "fill": {
              "color": "#000040"
             },
             "font": {
              "color": "#000036"
             },
             "line": {
              "color": "#000039"
             }
            },
            "type": "table"
           }
          ],
          "waterfall": [
           {
            "connector": {
             "line": {
              "color": "#000036",
              "width": 2
             }
            },
            "decreasing": {
             "marker": {
              "color": "#000033"
             }
            },
            "increasing": {
             "marker": {
              "color": "#000032"
             }
            },
            "totals": {
             "marker": {
              "color": "#000034"
             }
            },
            "type": "waterfall"
           }
          ]
         },
         "layout": {
          "coloraxis": {
           "colorscale": [
            [
             0,
             "#000011"
            ],
            [
             0.1111111111111111,
             "#000012"
            ],
            [
             0.2222222222222222,
             "#000013"
            ],
            [
             0.3333333333333333,
             "#000014"
            ],
            [
             0.4444444444444444,
             "#000015"
            ],
            [
             0.5555555555555556,
             "#000016"
            ],
            [
             0.6666666666666666,
             "#000017"
            ],
            [
             0.7777777777777778,
             "#000018"
            ],
            [
             0.8888888888888888,
             "#000019"
            ],
            [
             1,
             "#000020"
            ]
           ]
          },
          "colorscale": {
           "diverging": [
            [
             0,
             "#000021"
            ],
            [
             0.1,
             "#000022"
            ],
            [
             0.2,
             "#000023"
            ],
            [
             0.3,
             "#000024"
            ],
            [
             0.4,
             "#000025"
            ],
            [
             0.5,
             "#000026"
            ],
            [
             0.6,
             "#000027"
            ],
            [
             0.7,
             "#000028"
            ],
            [
             0.8,
             "#000029"
            ],
            [
             0.9,
             "#000030"
            ],
            [
             1,
             "#000031"
            ]
           ],
           "sequential": [
            [
             0,
             "#000011"
            ],
            [
             0.1111111111111111,
             "#000012"
            ],
            [
             0.2222222222222222,
             "#000013"
            ],
            [
             0.3333333333333333,
             "#000014"
            ],
            [
             0.4444444444444444,
             "#000015"
            ],
            [
             0.5555555555555556,
             "#000016"
            ],
            [
             0.6666666666666666,
             "#000017"
            ],
            [
             0.7777777777777778,
             "#000018"
            ],
            [
             0.8888888888888888,
             "#000019"
            ],
            [
             1,
             "#000020"
            ]
           ],
           "sequentialminus": [
            [
             0,
             "#000011"
            ],
            [
             0.1111111111111111,
             "#000012"
            ],
            [
             0.2222222222222222,
             "#000013"
            ],
            [
             0.3333333333333333,
             "#000014"
            ],
            [
             0.4444444444444444,
             "#000015"
            ],
            [
             0.5555555555555556,
             "#000016"
            ],
            [
             0.6666666666666666,
             "#000017"
            ],
            [
             0.7777777777777778,
             "#000018"
            ],
            [
             0.8888888888888888,
             "#000019"
            ],
            [
             1,
             "#000020"
            ]
           ]
          },
          "colorway": [
           "#000001",
           "#000002",
           "#000003",
           "#000004",
           "#000005",
           "#000006",
           "#000007",
           "#000008",
           "#000009",
           "#000010"
          ]
         }
        },
        "title": {
         "font": {
          "color": "rgb(36, 84, 40)",
          "size": 28,
          "weight": "bold"
         },
         "text": "Incremental attendance & CPA evolution",
         "x": 0.5
        },
        "width": 1300,
        "xaxis": {
         "anchor": "y",
         "domain": [
          0,
          0.94
         ],
         "linecolor": "lightgray",
         "linewidth": 2,
         "showgrid": false,
         "showline": true,
         "title": {
          "text": ""
         }
        },
        "yaxis": {
         "anchor": "x",
         "domain": [
          0,
          1
         ],
         "gridcolor": "lightgray",
         "range": [
          0,
          415395.6
         ],
         "showgrid": true,
         "tickformat": ",",
         "title": {
          "font": {
           "size": 16
          },
          "text": ""
         }
        },
        "yaxis2": {
         "anchor": "x",
         "overlaying": "y",
         "range": [
          0,
          20.52
         ],
         "showgrid": false,
         "side": "right",
         "tickprefix": "£",
         "ticksuffix": ".0",
         "title": {
          "font": {
           "size": 16
          },
          "text": ""
         }
        }
       }
      }
     },
     "metadata": {},
     "output_type": "display_data"
    }
   ],
   "source": [
    "scenario_plots(\n",
    "    scenarios = [build_plan_summary(scenario1, 2024, 0.9, ticket_price).iloc[1:, :], \n",
    "                 build_plan_summary(scenario2, 2024, 0.9, ticket_price).iloc[1:, :]],\n",
    "\n",
    "    metrics = ['Total Attendance', 'Cost per Attendance'],\n",
    "\n",
    "    channels = media_list,\n",
    "\n",
    "    colors = ['rgb(188, 214, 150)', \n",
    "            'rgb(36, 84, 40)',\n",
    "            'rgb(188, 214, 150)', \n",
    "            'rgb(36, 84, 40)'\n",
    "            ],\n",
    "\n",
    "    title = \"Incremental attendance & CPA evolution\", \n",
    "\n",
    "    ylabel1 = \"\", ylabel2= \"\", currency_symbol = \"£\" \n",
    ")"
   ]
  }
 ],
 "metadata": {
  "kernelspec": {
   "display_name": "Python 3",
   "language": "python",
   "name": "python3"
  },
  "language_info": {
   "codemirror_mode": {
    "name": "ipython",
    "version": 3
   },
   "file_extension": ".py",
   "mimetype": "text/x-python",
   "name": "python",
   "nbconvert_exporter": "python",
   "pygments_lexer": "ipython3",
   "version": "3.11.8"
  }
 },
 "nbformat": 4,
 "nbformat_minor": 2
}
